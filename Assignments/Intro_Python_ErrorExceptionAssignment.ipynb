{
 "cells": [
  {
   "cell_type": "markdown",
   "id": "8de3a410",
   "metadata": {},
   "source": [
    "1- Let us define a division operation inside a function (using def) but to get an error, define the denominator as 0. So, type except statement properly."
   ]
  },
  {
   "cell_type": "code",
   "execution_count": 4,
   "id": "806efb19",
   "metadata": {},
   "outputs": [],
   "source": [
    "def divide(numerator, denominator):\n",
    "    try:\n",
    "        result = numerator / denominator\n",
    "        return result\n",
    "    except ZeroDivisionError:\n",
    "        print(\"Error: division by zero\")"
   ]
  },
  {
   "cell_type": "code",
   "execution_count": 9,
   "id": "e5047f0f",
   "metadata": {},
   "outputs": [
    {
     "name": "stdout",
     "output_type": "stream",
     "text": [
      "Error: division by zero\n"
     ]
    },
    {
     "data": {
      "text/plain": [
       "(5.0, None)"
      ]
     },
     "execution_count": 9,
     "metadata": {},
     "output_type": "execute_result"
    }
   ],
   "source": [
    "division_1 = divide(10, 2)\n",
    "division_2 = divide(10, 0) \n",
    "division_1 ,  division_2"
   ]
  },
  {
   "cell_type": "markdown",
   "id": "7eddd177",
   "metadata": {},
   "source": [
    "2- It is possible to get multiple errors after the execution of one try block. So, please define an error-exception issue with NameError."
   ]
  },
  {
   "cell_type": "code",
   "execution_count": 10,
   "id": "0c82f8a2",
   "metadata": {},
   "outputs": [
    {
     "name": "stdout",
     "output_type": "stream",
     "text": [
      "Caught ZeroDivisionError!\n"
     ]
    }
   ],
   "source": [
    "try:\n",
    "    x = 1 / 0\n",
    "    y = undefined_variable\n",
    "except ZeroDivisionError:\n",
    "    print(\"Zero Division Error!\")\n",
    "except NameError:\n",
    "    print(\"Caught Name Error!\")\n",
    "except Exception as e:\n",
    "    print(f\"Caught an unexpected exception: {e}\")"
   ]
  },
  {
   "cell_type": "markdown",
   "id": "4277894e",
   "metadata": {},
   "source": [
    "3- Please define a function and with this function, generate a ValueError exception simply by entering a string instead of numerical value."
   ]
  },
  {
   "cell_type": "code",
   "execution_count": 11,
   "id": "a0d38046",
   "metadata": {},
   "outputs": [],
   "source": [
    "def get_square(num):\n",
    "    try:\n",
    "        result = num ** 2\n",
    "        return result\n",
    "    except TypeError:\n",
    "        raise ValueError(\"The input must be a numerical value\")"
   ]
  },
  {
   "cell_type": "markdown",
   "id": "96a29aa7",
   "metadata": {},
   "source": [
    "4- Write a function called circumference that takes the diameter of a circle as input and produces the circumference of the circle. Your function should use try...except to check for a type error in the event a string is passed."
   ]
  },
  {
   "cell_type": "code",
   "execution_count": null,
   "id": "c6408ff8",
   "metadata": {},
   "outputs": [],
   "source": []
  },
  {
   "cell_type": "markdown",
   "id": "dfea62e3",
   "metadata": {},
   "source": [
    "\n",
    "*Please add the URL of the assignments you uploaded to Github to the Online Text section"
   ]
  },
  {
   "cell_type": "code",
   "execution_count": 34,
   "id": "a03c8027",
   "metadata": {},
   "outputs": [],
   "source": [
    "import os\n",
    "from shutil import copy2"
   ]
  },
  {
   "cell_type": "code",
   "execution_count": 35,
   "id": "063aa298",
   "metadata": {},
   "outputs": [
    {
     "data": {
      "text/plain": [
       "'/home/monkeyrampage/git/Magnimind/Assignments'"
      ]
     },
     "execution_count": 35,
     "metadata": {},
     "output_type": "execute_result"
    }
   ],
   "source": [
    "home_path = os.path.expanduser('~')    \n",
    "git_dir = os.path.join(home_path, \"git\")\n",
    "course_dir = os.path.join(git_dir, \"Magnimind\")\n",
    "submission_dir = os.path.join(course_dir, \"Assignments\")\n",
    "submission_dir"
   ]
  },
  {
   "cell_type": "code",
   "execution_count": 36,
   "id": "c3095d2f",
   "metadata": {},
   "outputs": [
    {
     "data": {
      "text/plain": [
       "'/home/monkeyrampage/Desktop/Magnimind/Assignments'"
      ]
     },
     "execution_count": 36,
     "metadata": {},
     "output_type": "execute_result"
    }
   ],
   "source": [
    "cwd = os.getcwd()\n",
    "cwd"
   ]
  },
  {
   "cell_type": "code",
   "execution_count": 37,
   "id": "dd836db5",
   "metadata": {},
   "outputs": [
    {
     "name": "stdout",
     "output_type": "stream",
     "text": [
      "Everything is ready for submission\n"
     ]
    }
   ],
   "source": [
    "error = False\n",
    "\n",
    "if not os.path.exists(git_dir):\n",
    "    print(\"git directory {} does not exist. Make sure you set git up correctly\".format(git_dir))\n",
    "    error = True\n",
    "elif not os.path.exists(course_dir):\n",
    "    print(\"Course's git repository does not exist under the git directory.\")\n",
    "    print(\"Make sure it is created as folder {}\".format(course_dir))\n",
    "    error = True\n",
    "elif not os.path.exists(submission_dir):\n",
    "    print(\"\\\"Submissions\\\" directory does not exist. Creating it...\")\n",
    "    os.makedirs(submission_dir)\n",
    "\n",
    "if not error:\n",
    "    print(\"Everything is ready for submission\")\n",
    "else:\n",
    "    assert(\"There were errors. Please fix them before proceeding!\")"
   ]
  },
  {
   "cell_type": "markdown",
   "id": "921dcafa",
   "metadata": {},
   "source": [
    "### Define the course and the assignment name down below: (Be careful!)"
   ]
  },
  {
   "cell_type": "code",
   "execution_count": 1,
   "id": "57e74ba3",
   "metadata": {},
   "outputs": [],
   "source": [
    "# CHANGE THIS CELL BEFORE EVERY ASSIGNMENT\n",
    "course_name = \"Intro_Python_\"\n",
    "assignment_name = \"ErrorExceptionAssignment\""
   ]
  },
  {
   "cell_type": "code",
   "execution_count": 2,
   "id": "bb2d3194",
   "metadata": {},
   "outputs": [
    {
     "data": {
      "text/plain": [
       "'Intro_Python_ErrorExceptionAssignment'"
      ]
     },
     "execution_count": 2,
     "metadata": {},
     "output_type": "execute_result"
    }
   ],
   "source": [
    "assignment_name = course_name + assignment_name\n",
    "assignment_name"
   ]
  },
  {
   "cell_type": "code",
   "execution_count": 40,
   "id": "497d9bd3",
   "metadata": {},
   "outputs": [
    {
     "name": "stdout",
     "output_type": "stream",
     "text": [
      "Copying file Intro_Python_StringAssignment.ipynb to /home/monkeyrampage/git/Magnimind/Assignments\n",
      "git add Intro_Python_StringAssignment.ipynb\n",
      "Submitting solution files for assignment: Intro_Python_StringAssignment\n",
      "git commit -m \"Solution files for assignment: Intro_Python_StringAssignment added\"\n",
      "[main 5d8793c] Solution files for assignment: Intro_Python_StringAssignment added\n",
      " 1 file changed, 355 insertions(+)\n",
      " create mode 100644 Assignments/Intro_Python_StringAssignment.ipynb\n",
      "git push origin main\n",
      "Done submitting solution files for assignment: Intro_Python_StringAssignment\n"
     ]
    },
    {
     "name": "stderr",
     "output_type": "stream",
     "text": [
      "To github.com:monkeyrampage/Magnimind.git\n",
      "   2970ff0..5d8793c  main -> main\n"
     ]
    }
   ],
   "source": [
    "files_to_be_copied = [assignment_name+\".ipynb\"]\n",
    "\n",
    "if not error:\n",
    "    for filename in files_to_be_copied:\n",
    "        print(\"Copying file {} to {}\".format(filename, submission_dir))\n",
    "        copy2(filename, submission_dir)\n",
    "        os.chdir(submission_dir)\n",
    "        git_add_command = \"git add {}\".format(filename)\n",
    "        print(git_add_command)\n",
    "        os.system(git_add_command)\n",
    "        os.chdir(cwd)\n",
    "    print(\"Submitting solution files for assignment: {}\".format(assignment_name))\n",
    "    os.chdir(submission_dir)\n",
    "    git_commit_command = \"git commit -m \\\"Solution files for assignment: {} added\\\"\".format(assignment_name)\n",
    "    print(git_commit_command)\n",
    "    os.system(git_commit_command)\n",
    "    git_push_command = \"git push origin main\"\n",
    "    print(git_push_command)\n",
    "    os.system(git_push_command)\n",
    "    os.chdir(cwd)\n",
    "    print(\"Done submitting solution files for assignment: {}\".format(assignment_name))"
   ]
  },
  {
   "cell_type": "code",
   "execution_count": null,
   "id": "80cc5585",
   "metadata": {},
   "outputs": [],
   "source": []
  }
 ],
 "metadata": {
  "kernelspec": {
   "display_name": "Python 3 (ipykernel)",
   "language": "python",
   "name": "python3"
  },
  "language_info": {
   "codemirror_mode": {
    "name": "ipython",
    "version": 3
   },
   "file_extension": ".py",
   "mimetype": "text/x-python",
   "name": "python",
   "nbconvert_exporter": "python",
   "pygments_lexer": "ipython3",
   "version": "3.11.0"
  }
 },
 "nbformat": 4,
 "nbformat_minor": 5
}
