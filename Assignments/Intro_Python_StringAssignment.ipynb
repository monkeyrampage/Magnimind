{
 "cells": [
  {
   "cell_type": "markdown",
   "id": "23ebe08b",
   "metadata": {},
   "source": [
    "1. Ask the user to enter their first name and surname in lower case. Change the case to title case and join them together. Display the finished result."
   ]
  },
  {
   "cell_type": "code",
   "execution_count": 1,
   "id": "0a9a6c62",
   "metadata": {},
   "outputs": [
    {
     "name": "stdout",
     "output_type": "stream",
     "text": [
      "Enter your first name in lower case: John\n",
      "Enter your surname in lower case: Doe\n",
      "Your full name is: John Doe\n"
     ]
    }
   ],
   "source": [
    "first_name = input(\"Enter your first name in lower case: \")\n",
    "first_name.lower()\n",
    "surname = input(\"Enter your surname in lower case: \")\n",
    "surname.lower()\n",
    "\n",
    "full_name = first_name.title() + \" \" + surname.title()\n",
    "print(\"Your full name is:\", full_name)"
   ]
  },
  {
   "cell_type": "markdown",
   "id": "4476e8b4",
   "metadata": {},
   "source": [
    "2. Ask the user to type in the first line of a poem Raven by Edgar Allen Poe and display the length of the string. Ask for a starting number and an ending number and then display just that section of the text (remember Python starts counting from 0 and not 1). Here is the poem Raven:\n",
    "\n",
    "Deep into that darkness peering,\n",
    "\n",
    "Long I stood there, wondering, fearing,\n",
    "\n",
    "Doubting, dreaming dreams no mortals\n",
    "\n",
    "Ever dared to dream before;\n",
    "\n",
    "But the silence was unbroken,\n",
    "\n",
    "And the stillness gave no token,\n",
    "\n",
    "And the only word there spoken\n",
    "\n",
    "Was the whispered word, \"Lenore!\"\n",
    "\n",
    "This I whispered, and an echo\n",
    "\n",
    "Murmured back the word, \"Lenore!\"\n",
    "\n",
    "Merely this, and nothing more."
   ]
  },
  {
   "cell_type": "code",
   "execution_count": 3,
   "id": "11acee8b",
   "metadata": {},
   "outputs": [
    {
     "name": "stdout",
     "output_type": "stream",
     "text": [
      "Enter the first line of 'The Raven' by Edgar Allen Poe: Deep into that darkness peering,\n",
      "The length of the string is: 32\n",
      "Enter a starting number: 6\n",
      "Enter an ending number: 77\n",
      "The selected section of the text is: nto that darkness peering,\n"
     ]
    }
   ],
   "source": [
    "poem = input(\"Enter the first line of 'The Raven' by Edgar Allen Poe: \")\n",
    "\n",
    "print(\"The length of the string is:\", len(poem))\n",
    "\n",
    "start = int(input(\"Enter a starting number: \"))\n",
    "end = int(input(\"Enter an ending number: \"))\n",
    "\n",
    "section = poem[start:end]\n",
    "print(\"The selected section of the text is:\", section)"
   ]
  },
  {
   "cell_type": "markdown",
   "id": "30c25730",
   "metadata": {},
   "source": [
    "3. Removes extra characters from the start and end of a string and explain why you need to remove white spaces while exploring text.\n",
    "\n",
    "The reason why we remove it is because Python process these white space and if we have no idea about white spaces, there cannot properly process the text."
   ]
  },
  {
   "cell_type": "code",
   "execution_count": 4,
   "id": "b5005fe3",
   "metadata": {},
   "outputs": [
    {
     "data": {
      "text/plain": [
       "'asdg2 ad1323g adsgfa'"
      ]
     },
     "execution_count": 4,
     "metadata": {},
     "output_type": "execute_result"
    }
   ],
   "source": [
    "# Use .strip() method and tis done.\n",
    "asd = '       asdg2 ad1323g adsgfa   '\n",
    "asd.strip()"
   ]
  },
  {
   "cell_type": "markdown",
   "id": "dfea62e3",
   "metadata": {},
   "source": [
    "\n",
    "*Please add the URL of the assignments you uploaded to Github to the Online Text section"
   ]
  },
  {
   "cell_type": "code",
   "execution_count": 34,
   "id": "a03c8027",
   "metadata": {},
   "outputs": [],
   "source": [
    "import os\n",
    "from shutil import copy2"
   ]
  },
  {
   "cell_type": "code",
   "execution_count": 35,
   "id": "063aa298",
   "metadata": {},
   "outputs": [
    {
     "data": {
      "text/plain": [
       "'/home/monkeyrampage/git/Magnimind/Assignments'"
      ]
     },
     "execution_count": 35,
     "metadata": {},
     "output_type": "execute_result"
    }
   ],
   "source": [
    "home_path = os.path.expanduser('~')    \n",
    "git_dir = os.path.join(home_path, \"git\")\n",
    "course_dir = os.path.join(git_dir, \"Magnimind\")\n",
    "submission_dir = os.path.join(course_dir, \"Assignments\")\n",
    "submission_dir"
   ]
  },
  {
   "cell_type": "code",
   "execution_count": 36,
   "id": "c3095d2f",
   "metadata": {},
   "outputs": [
    {
     "data": {
      "text/plain": [
       "'/home/monkeyrampage/Desktop/Magnimind/Assignments'"
      ]
     },
     "execution_count": 36,
     "metadata": {},
     "output_type": "execute_result"
    }
   ],
   "source": [
    "cwd = os.getcwd()\n",
    "cwd"
   ]
  },
  {
   "cell_type": "code",
   "execution_count": 37,
   "id": "dd836db5",
   "metadata": {},
   "outputs": [
    {
     "name": "stdout",
     "output_type": "stream",
     "text": [
      "Everything is ready for submission\n"
     ]
    }
   ],
   "source": [
    "error = False\n",
    "\n",
    "if not os.path.exists(git_dir):\n",
    "    print(\"git directory {} does not exist. Make sure you set git up correctly\".format(git_dir))\n",
    "    error = True\n",
    "elif not os.path.exists(course_dir):\n",
    "    print(\"Course's git repository does not exist under the git directory.\")\n",
    "    print(\"Make sure it is created as folder {}\".format(course_dir))\n",
    "    error = True\n",
    "elif not os.path.exists(submission_dir):\n",
    "    print(\"\\\"Submissions\\\" directory does not exist. Creating it...\")\n",
    "    os.makedirs(submission_dir)\n",
    "\n",
    "if not error:\n",
    "    print(\"Everything is ready for submission\")\n",
    "else:\n",
    "    assert(\"There were errors. Please fix them before proceeding!\")"
   ]
  },
  {
   "cell_type": "markdown",
   "id": "921dcafa",
   "metadata": {},
   "source": [
    "Define the course and the assignment name down below:"
   ]
  },
  {
   "cell_type": "code",
   "execution_count": 38,
   "id": "57e74ba3",
   "metadata": {},
   "outputs": [],
   "source": [
    "# CHANGE THIS CELL BEFORE EVERY ASSIGNMENT\n",
    "course_name = \"Intro_Python_\"\n",
    "assignment_name = \"StringAssignment\""
   ]
  },
  {
   "cell_type": "code",
   "execution_count": 39,
   "id": "bb2d3194",
   "metadata": {},
   "outputs": [
    {
     "data": {
      "text/plain": [
       "'Intro_Python_StringAssignment'"
      ]
     },
     "execution_count": 39,
     "metadata": {},
     "output_type": "execute_result"
    }
   ],
   "source": [
    "assignment_name = course_name + assignment_name\n",
    "assignment_name"
   ]
  },
  {
   "cell_type": "code",
   "execution_count": 40,
   "id": "497d9bd3",
   "metadata": {},
   "outputs": [
    {
     "name": "stdout",
     "output_type": "stream",
     "text": [
      "Copying file Intro_Python_StringAssignment.ipynb to /home/monkeyrampage/git/Magnimind/Assignments\n",
      "git add Intro_Python_StringAssignment.ipynb\n",
      "Submitting solution files for assignment: Intro_Python_StringAssignment\n",
      "git commit -m \"Solution files for assignment: Intro_Python_StringAssignment added\"\n",
      "[main 5d8793c] Solution files for assignment: Intro_Python_StringAssignment added\n",
      " 1 file changed, 355 insertions(+)\n",
      " create mode 100644 Assignments/Intro_Python_StringAssignment.ipynb\n",
      "git push origin main\n",
      "Done submitting solution files for assignment: Intro_Python_StringAssignment\n"
     ]
    },
    {
     "name": "stderr",
     "output_type": "stream",
     "text": [
      "To github.com:monkeyrampage/Magnimind.git\n",
      "   2970ff0..5d8793c  main -> main\n"
     ]
    }
   ],
   "source": [
    "files_to_be_copied = [assignment_name+\".ipynb\"]\n",
    "\n",
    "if not error:\n",
    "    for filename in files_to_be_copied:\n",
    "        print(\"Copying file {} to {}\".format(filename, submission_dir))\n",
    "        copy2(filename, submission_dir)\n",
    "        os.chdir(submission_dir)\n",
    "        git_add_command = \"git add {}\".format(filename)\n",
    "        print(git_add_command)\n",
    "        os.system(git_add_command)\n",
    "        os.chdir(cwd)\n",
    "    print(\"Submitting solution files for assignment: {}\".format(assignment_name))\n",
    "    os.chdir(submission_dir)\n",
    "    git_commit_command = \"git commit -m \\\"Solution files for assignment: {} added\\\"\".format(assignment_name)\n",
    "    print(git_commit_command)\n",
    "    os.system(git_commit_command)\n",
    "    git_push_command = \"git push origin main\"\n",
    "    print(git_push_command)\n",
    "    os.system(git_push_command)\n",
    "    os.chdir(cwd)\n",
    "    print(\"Done submitting solution files for assignment: {}\".format(assignment_name))"
   ]
  },
  {
   "cell_type": "code",
   "execution_count": null,
   "id": "80cc5585",
   "metadata": {},
   "outputs": [],
   "source": []
  }
 ],
 "metadata": {
  "kernelspec": {
   "display_name": "Python 3 (ipykernel)",
   "language": "python",
   "name": "python3"
  },
  "language_info": {
   "codemirror_mode": {
    "name": "ipython",
    "version": 3
   },
   "file_extension": ".py",
   "mimetype": "text/x-python",
   "name": "python",
   "nbconvert_exporter": "python",
   "pygments_lexer": "ipython3",
   "version": "3.11.0"
  }
 },
 "nbformat": 4,
 "nbformat_minor": 5
}
