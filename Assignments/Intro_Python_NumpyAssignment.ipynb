{
 "cells": [
  {
   "cell_type": "markdown",
   "id": "f14b91f2",
   "metadata": {},
   "source": [
    "1- Create three lists representing house features, each list containing ten values. The first one for the house's size in square meters, the second one for rooms and last for price. Then, create an array combining these lists."
   ]
  },
  {
   "cell_type": "code",
   "execution_count": 57,
   "id": "f3092e40",
   "metadata": {},
   "outputs": [
    {
     "name": "stdout",
     "output_type": "stream",
     "text": [
      "[[100 120 80 150 200 90 110 130 180 95]\n",
      " [2 3 2 4 5 2 3 3 4 2]\n",
      " [200000 250000 180000 350000 450000 190000 220000 260000 400000 195000]]\n"
     ]
    }
   ],
   "source": [
    "import numpy as np\n",
    "\n",
    "size = [100, 120, 80, 150, 200, 90, 110, 130, 180, 95]\n",
    "rooms = [2, 3, 2, 4, 5, 2, 3, 3, 4, 2]\n",
    "price = [200000, 250000, 180000, 350000, 450000, 190000, 220000, 260000, 400000, 195000]\n",
    "\n",
    "houses = np.array([size, rooms, price])\n",
    "print(houses)"
   ]
  },
  {
   "cell_type": "markdown",
   "id": "2369820b",
   "metadata": {},
   "source": [
    "2- Transpose the array you have created, so that every line can represent features of one house."
   ]
  },
  {
   "cell_type": "code",
   "execution_count": 58,
   "id": "ed53c655",
   "metadata": {},
   "outputs": [
    {
     "data": {
      "text/plain": [
       "array([[100, 2, 200000],\n",
       "       [120, 3, 250000],\n",
       "       [80, 2, 180000],\n",
       "       [150, 4, 350000],\n",
       "       [200, 5, 450000],\n",
       "       [90, 2, 190000],\n",
       "       [110, 3, 220000],\n",
       "       [130, 3, 260000],\n",
       "       [180, 4, 400000],\n",
       "       [95, 2, 195000]])"
      ]
     },
     "execution_count": 58,
     "metadata": {},
     "output_type": "execute_result"
    }
   ],
   "source": [
    "transposed_houses = houses.transpose()\n",
    "transposed_houses"
   ]
  },
  {
   "cell_type": "markdown",
   "id": "1867329d",
   "metadata": {},
   "source": [
    "3- Display the shape of the array and explain what it means."
   ]
  },
  {
   "cell_type": "code",
   "execution_count": 59,
   "id": "2dd8fcb1",
   "metadata": {
    "scrolled": true
   },
   "outputs": [
    {
     "data": {
      "text/plain": [
       "(10, 3)"
      ]
     },
     "execution_count": 59,
     "metadata": {},
     "output_type": "execute_result"
    }
   ],
   "source": [
    "transposed_houses.shape"
   ]
  },
  {
   "cell_type": "markdown",
   "id": "ab8d41d9",
   "metadata": {},
   "source": [
    "means 10 rows and 3 columns , one row for each house"
   ]
  },
  {
   "cell_type": "markdown",
   "id": "ef78447e",
   "metadata": {},
   "source": [
    "For the following assignment, you are going to use Earthquakes dataset.\n",
    "\n",
    "4- Load the Earthquakes dataset. Export the dataset to an array as you covered in the previous lesson."
   ]
  },
  {
   "cell_type": "code",
   "execution_count": 60,
   "id": "fbfd4806",
   "metadata": {},
   "outputs": [
    {
     "data": {
      "text/plain": [
       "'/home/monkeyrampage/Desktop/Magnimind/Assignments'"
      ]
     },
     "execution_count": 60,
     "metadata": {},
     "output_type": "execute_result"
    }
   ],
   "source": [
    "#set current workind directory\n",
    "import os\n",
    "cwd = os.getcwd()\n",
    "cwd"
   ]
  },
  {
   "cell_type": "code",
   "execution_count": 61,
   "id": "adaf9840",
   "metadata": {},
   "outputs": [],
   "source": [
    "os.chdir('/home/monkeyrampage/Desktop/Magnimind/Intro_to_Python/datasets')"
   ]
  },
  {
   "cell_type": "code",
   "execution_count": 62,
   "id": "b85e3f7d",
   "metadata": {},
   "outputs": [],
   "source": [
    "earthquake_data = np.genfromtxt('earthquakes1970-2014.csv', delimiter=',')"
   ]
  },
  {
   "cell_type": "code",
   "execution_count": 63,
   "id": "15260d70",
   "metadata": {},
   "outputs": [
    {
     "data": {
      "text/plain": [
       "(5305, 12)"
      ]
     },
     "execution_count": 63,
     "metadata": {},
     "output_type": "execute_result"
    }
   ],
   "source": [
    "earthquake_data.shape"
   ]
  },
  {
   "cell_type": "code",
   "execution_count": 64,
   "id": "c384fa77",
   "metadata": {},
   "outputs": [],
   "source": [
    "os.chdir(cwd)"
   ]
  },
  {
   "cell_type": "code",
   "execution_count": 65,
   "id": "9383c988",
   "metadata": {},
   "outputs": [
    {
     "data": {
      "text/plain": [
       "'/home/monkeyrampage/Desktop/Magnimind/Assignments'"
      ]
     },
     "execution_count": 65,
     "metadata": {},
     "output_type": "execute_result"
    }
   ],
   "source": [
    "os.getcwd()\n",
    "#get back where we are working"
   ]
  },
  {
   "cell_type": "markdown",
   "id": "b4319f8f",
   "metadata": {},
   "source": [
    "5- Slice first 20 rows and column numbers 3, 5, 6, 7, 12. Then, assign the array you sliced to a variable."
   ]
  },
  {
   "cell_type": "code",
   "execution_count": 66,
   "id": "faa2c553",
   "metadata": {},
   "outputs": [
    {
     "data": {
      "text/plain": [
       "array([[0, 0, 0, 0, 0, 0],\n",
       "       [102, 31, 7, 0, 90, 1970010440],\n",
       "       [151, 8, 6, 0, 85, 1970010640],\n",
       "       [178, 179, 6, 0, 59, 1970010840],\n",
       "       [126, 73, 6, 0, 91, 1970011040],\n",
       "       [-152, 85, 6, 0, 0, 0],\n",
       "       [-177, 80, 6, 0, 175, 1970012040],\n",
       "       [142, 46, 6, 0, 199, 1970012040],\n",
       "       [-104, 33, 6, 0, 140, 1970012140],\n",
       "       [166, 50, 6, 0, 91, 1970012640],\n",
       "       [-99, 21, 6, 0, 100, 1970020440],\n",
       "       [122, 11, 6, 0, 94, 1970020540],\n",
       "       [100, 33, 6, 0, 57, 1970020640],\n",
       "       [103, 33, 6, 0, 94, 1970022440],\n",
       "       [-179, 7, 6, 0, 0, 0],\n",
       "       [-175, 161, 6, 0, 0, 0],\n",
       "       [143, 33, 6, 0, 82, 1970030440],\n",
       "       [168, 41, 6, 0, 61, 1970030940],\n",
       "       [148, 40, 6, 0, 65, 1970031040],\n",
       "       [-153, 16, 6, 0, 0, 0]])"
      ]
     },
     "execution_count": 66,
     "metadata": {},
     "output_type": "execute_result"
    }
   ],
   "source": [
    "# I also added depth column\n",
    "sliced_data = earthquake_data[:20, [2,3,4,5,6,11]]\n",
    "sliced_data[np.isnan(sliced_data)] = 0\n",
    "sliced_data = sliced_data.astype(int)\n",
    "sliced_data"
   ]
  },
  {
   "cell_type": "markdown",
   "id": "b02cf847",
   "metadata": {},
   "source": [
    "6- Display the row numbers where last values are equal to 4.5 or higher."
   ]
  },
  {
   "cell_type": "code",
   "execution_count": 67,
   "id": "ecee4f61",
   "metadata": {},
   "outputs": [
    {
     "name": "stdout",
     "output_type": "stream",
     "text": [
      "[1 2 3 ... 5302 5303 5304]\n"
     ]
    },
    {
     "data": {
      "text/plain": [
       "(5242,)"
      ]
     },
     "execution_count": 67,
     "metadata": {},
     "output_type": "execute_result"
    }
   ],
   "source": [
    "last_column = earthquake_data[:, -1]\n",
    "matching_rows = np.where(last_column >= 4.5)[0]\n",
    "\n",
    "print(matching_rows)\n",
    "matching_rows.shape"
   ]
  },
  {
   "cell_type": "markdown",
   "id": "3961d8ab",
   "metadata": {},
   "source": [
    "7- Assign 1 to first row."
   ]
  },
  {
   "cell_type": "code",
   "execution_count": 74,
   "id": "53b8e1c7",
   "metadata": {},
   "outputs": [],
   "source": [
    "# Assign 1 to the first row\n",
    "earthquake_data[0, :] = 1\n",
    "#earthquake_data[:1,:]"
   ]
  },
  {
   "cell_type": "markdown",
   "id": "9016292a",
   "metadata": {},
   "source": [
    "8- Save the final state of the array to disk. You are going to use this in the next assignment."
   ]
  },
  {
   "cell_type": "code",
   "execution_count": 75,
   "id": "d8855278",
   "metadata": {},
   "outputs": [],
   "source": [
    "earthquake_data[np.isnan(earthquake_data)] = 0\n",
    "earthquake_data = earthquake_data.astype(int)\n",
    "np.savetxt('modified_earthquake_data.csv', earthquake_data, delimiter=',')"
   ]
  },
  {
   "cell_type": "markdown",
   "id": "e9bb7213",
   "metadata": {},
   "source": [
    "9- Load the array you saved in the previous lesson from the disk."
   ]
  },
  {
   "cell_type": "code",
   "execution_count": 78,
   "id": "ef8a585e",
   "metadata": {},
   "outputs": [
    {
     "data": {
      "text/plain": [
       "(5305, 12)"
      ]
     },
     "execution_count": 78,
     "metadata": {},
     "output_type": "execute_result"
    }
   ],
   "source": [
    "loaded_modified_data = np.loadtxt('modified_earthquake_data.csv', delimiter=',')\n",
    "loaded_modified_data.shape"
   ]
  },
  {
   "cell_type": "markdown",
   "id": "0638a14f",
   "metadata": {},
   "source": [
    "10- Display the mean and the standard deviation for each column."
   ]
  },
  {
   "cell_type": "code",
   "execution_count": 81,
   "id": "6bf56a37",
   "metadata": {},
   "outputs": [
    {
     "data": {
      "text/plain": [
       "(array([1.88501414e-04, 2.63543827e+00, 4.44880302e+01, 7.40976437e+01,\n",
       "        6.10574929e+00, 1.88501414e-04, 2.98645429e+02, 1.59208294e+00,\n",
       "        2.11875589e-01, 4.59189444e-01, 1.88501414e-04, 1.95679169e+09]),\n",
       " array([1.37282876e-02, 2.94589954e+01, 1.24326742e+02, 1.28999096e+02,\n",
       "        3.36773695e-01, 1.37282876e-02, 1.72779183e+02, 1.28758830e+01,\n",
       "        2.13546207e+00, 5.93622168e-01, 1.37282876e-02, 2.72896144e+08]))"
      ]
     },
     "execution_count": 81,
     "metadata": {},
     "output_type": "execute_result"
    }
   ],
   "source": [
    "means = np.mean(loaded_modified_data, axis=0)\n",
    "stds = np.std(loaded_modified_data, axis=0)\n",
    "means , stds"
   ]
  },
  {
   "cell_type": "markdown",
   "id": "3da91bfe",
   "metadata": {},
   "source": [
    "11- Subtract 1, 25, 25, 10, 4 from columns in order. (Remember it can be dobe in one line of code.)"
   ]
  },
  {
   "cell_type": "code",
   "execution_count": 82,
   "id": "4c20215c",
   "metadata": {},
   "outputs": [
    {
     "ename": "ValueError",
     "evalue": "operands could not be broadcast together with shapes (5305,12) (5,) (5305,12) ",
     "output_type": "error",
     "traceback": [
      "\u001b[0;31m---------------------------------------------------------------------------\u001b[0m",
      "\u001b[0;31mValueError\u001b[0m                                Traceback (most recent call last)",
      "Cell \u001b[0;32mIn[82], line 2\u001b[0m\n\u001b[1;32m      1\u001b[0m subtractions \u001b[38;5;241m=\u001b[39m np\u001b[38;5;241m.\u001b[39marray([\u001b[38;5;241m1\u001b[39m, \u001b[38;5;241m25\u001b[39m, \u001b[38;5;241m25\u001b[39m, \u001b[38;5;241m10\u001b[39m, \u001b[38;5;241m4\u001b[39m])\n\u001b[0;32m----> 2\u001b[0m \u001b[43mloaded_modified_data\u001b[49m\u001b[43m \u001b[49m\u001b[38;5;241;43m-\u001b[39;49m\u001b[38;5;241;43m=\u001b[39;49m\u001b[43m \u001b[49m\u001b[43msubtractions\u001b[49m\n",
      "\u001b[0;31mValueError\u001b[0m: operands could not be broadcast together with shapes (5305,12) (5,) (5305,12) "
     ]
    }
   ],
   "source": [
    "subtractions = np.array([1, 25, 25, 10, 4])\n",
    "loaded_modified_data -= subtractions"
   ]
  },
  {
   "cell_type": "markdown",
   "id": "60acaf2a",
   "metadata": {},
   "source": [
    "12- Multiply each element by 2. (Remember it can be done in one line of code.)"
   ]
  },
  {
   "cell_type": "code",
   "execution_count": null,
   "id": "0c82f8a2",
   "metadata": {},
   "outputs": [],
   "source": []
  },
  {
   "cell_type": "code",
   "execution_count": null,
   "id": "8579987a",
   "metadata": {},
   "outputs": [],
   "source": []
  },
  {
   "cell_type": "code",
   "execution_count": null,
   "id": "a0d38046",
   "metadata": {},
   "outputs": [],
   "source": []
  },
  {
   "cell_type": "code",
   "execution_count": null,
   "id": "9d4882fc",
   "metadata": {},
   "outputs": [],
   "source": []
  },
  {
   "cell_type": "markdown",
   "id": "dfea62e3",
   "metadata": {},
   "source": [
    "\n",
    "*Please add the URL of the assignments you uploaded to Github to the Online Text section"
   ]
  },
  {
   "cell_type": "code",
   "execution_count": 34,
   "id": "a03c8027",
   "metadata": {},
   "outputs": [],
   "source": [
    "import os\n",
    "from shutil import copy2"
   ]
  },
  {
   "cell_type": "code",
   "execution_count": 35,
   "id": "063aa298",
   "metadata": {},
   "outputs": [
    {
     "data": {
      "text/plain": [
       "'/home/monkeyrampage/git/Magnimind/Assignments'"
      ]
     },
     "execution_count": 35,
     "metadata": {},
     "output_type": "execute_result"
    }
   ],
   "source": [
    "home_path = os.path.expanduser('~')    \n",
    "git_dir = os.path.join(home_path, \"git\")\n",
    "course_dir = os.path.join(git_dir, \"Magnimind\")\n",
    "submission_dir = os.path.join(course_dir, \"Assignments\")\n",
    "submission_dir"
   ]
  },
  {
   "cell_type": "code",
   "execution_count": 36,
   "id": "c3095d2f",
   "metadata": {},
   "outputs": [
    {
     "data": {
      "text/plain": [
       "'/home/monkeyrampage/Desktop/Magnimind/Assignments'"
      ]
     },
     "execution_count": 36,
     "metadata": {},
     "output_type": "execute_result"
    }
   ],
   "source": [
    "cwd = os.getcwd()\n",
    "cwd"
   ]
  },
  {
   "cell_type": "code",
   "execution_count": 37,
   "id": "dd836db5",
   "metadata": {},
   "outputs": [
    {
     "name": "stdout",
     "output_type": "stream",
     "text": [
      "Everything is ready for submission\n"
     ]
    }
   ],
   "source": [
    "error = False\n",
    "\n",
    "if not os.path.exists(git_dir):\n",
    "    print(\"git directory {} does not exist. Make sure you set git up correctly\".format(git_dir))\n",
    "    error = True\n",
    "elif not os.path.exists(course_dir):\n",
    "    print(\"Course's git repository does not exist under the git directory.\")\n",
    "    print(\"Make sure it is created as folder {}\".format(course_dir))\n",
    "    error = True\n",
    "elif not os.path.exists(submission_dir):\n",
    "    print(\"\\\"Submissions\\\" directory does not exist. Creating it...\")\n",
    "    os.makedirs(submission_dir)\n",
    "\n",
    "if not error:\n",
    "    print(\"Everything is ready for submission\")\n",
    "else:\n",
    "    assert(\"There were errors. Please fix them before proceeding!\")"
   ]
  },
  {
   "cell_type": "markdown",
   "id": "921dcafa",
   "metadata": {},
   "source": [
    "### Define the course and the assignment name down below: (Be careful!)"
   ]
  },
  {
   "cell_type": "code",
   "execution_count": 1,
   "id": "57e74ba3",
   "metadata": {},
   "outputs": [],
   "source": [
    "# CHANGE THIS CELL BEFORE EVERY ASSIGNMENT\n",
    "course_name = \"Intro_Python_\"\n",
    "assignment_name = \"NumpyAssignment\""
   ]
  },
  {
   "cell_type": "code",
   "execution_count": 39,
   "id": "bb2d3194",
   "metadata": {},
   "outputs": [
    {
     "data": {
      "text/plain": [
       "'Intro_Python_StringAssignment'"
      ]
     },
     "execution_count": 39,
     "metadata": {},
     "output_type": "execute_result"
    }
   ],
   "source": [
    "assignment_name = course_name + assignment_name\n",
    "assignment_name"
   ]
  },
  {
   "cell_type": "code",
   "execution_count": 40,
   "id": "497d9bd3",
   "metadata": {},
   "outputs": [
    {
     "name": "stdout",
     "output_type": "stream",
     "text": [
      "Copying file Intro_Python_StringAssignment.ipynb to /home/monkeyrampage/git/Magnimind/Assignments\n",
      "git add Intro_Python_StringAssignment.ipynb\n",
      "Submitting solution files for assignment: Intro_Python_StringAssignment\n",
      "git commit -m \"Solution files for assignment: Intro_Python_StringAssignment added\"\n",
      "[main 5d8793c] Solution files for assignment: Intro_Python_StringAssignment added\n",
      " 1 file changed, 355 insertions(+)\n",
      " create mode 100644 Assignments/Intro_Python_StringAssignment.ipynb\n",
      "git push origin main\n",
      "Done submitting solution files for assignment: Intro_Python_StringAssignment\n"
     ]
    },
    {
     "name": "stderr",
     "output_type": "stream",
     "text": [
      "To github.com:monkeyrampage/Magnimind.git\n",
      "   2970ff0..5d8793c  main -> main\n"
     ]
    }
   ],
   "source": [
    "files_to_be_copied = [assignment_name+\".ipynb\"]\n",
    "\n",
    "if not error:\n",
    "    for filename in files_to_be_copied:\n",
    "        print(\"Copying file {} to {}\".format(filename, submission_dir))\n",
    "        copy2(filename, submission_dir)\n",
    "        os.chdir(submission_dir)\n",
    "        git_add_command = \"git add {}\".format(filename)\n",
    "        print(git_add_command)\n",
    "        os.system(git_add_command)\n",
    "        os.chdir(cwd)\n",
    "    print(\"Submitting solution files for assignment: {}\".format(assignment_name))\n",
    "    os.chdir(submission_dir)\n",
    "    git_commit_command = \"git commit -m \\\"Solution files for assignment: {} added\\\"\".format(assignment_name)\n",
    "    print(git_commit_command)\n",
    "    os.system(git_commit_command)\n",
    "    git_push_command = \"git push origin main\"\n",
    "    print(git_push_command)\n",
    "    os.system(git_push_command)\n",
    "    os.chdir(cwd)\n",
    "    print(\"Done submitting solution files for assignment: {}\".format(assignment_name))"
   ]
  },
  {
   "cell_type": "code",
   "execution_count": null,
   "id": "80cc5585",
   "metadata": {},
   "outputs": [],
   "source": []
  }
 ],
 "metadata": {
  "kernelspec": {
   "display_name": "Python 3 (ipykernel)",
   "language": "python",
   "name": "python3"
  },
  "language_info": {
   "codemirror_mode": {
    "name": "ipython",
    "version": 3
   },
   "file_extension": ".py",
   "mimetype": "text/x-python",
   "name": "python",
   "nbconvert_exporter": "python",
   "pygments_lexer": "ipython3",
   "version": "3.11.0"
  }
 },
 "nbformat": 4,
 "nbformat_minor": 5
}
