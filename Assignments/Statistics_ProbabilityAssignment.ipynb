{
 "cells": [
  {
   "cell_type": "markdown",
   "id": "ed08798e",
   "metadata": {},
   "source": [
    "1- If a list of people has 24 women and 21 men, then the probability of choosing a man from the list is 21/45.\n",
    "\n",
    "What is the probability of not choosing a man?\n",
    "\n",
    "a) 24/45\n",
    "\n",
    "b) 1-(21/24)\n",
    "\n",
    "c) 21/24\n",
    "\n",
    "d) 24/21"
   ]
  },
  {
   "cell_type": "markdown",
   "id": "0fb0f69a",
   "metadata": {},
   "source": [
    "Solution 1)\\\n",
    "p + ~p = 1 . Therefore ~p = 1 - p = 1 - 21/45 = 24/45\\ \n",
    "Answer is A"
   ]
  },
  {
   "cell_type": "markdown",
   "id": "dc90ede8",
   "metadata": {},
   "source": [
    "2- The probability that Bernice will travel by plane sometime in the next year is 10%. The probability of a plane crash at any time is 0.005%.\n",
    "\n",
    "What is the probability that Bernice will be in a plane crash sometime in the next year?\n",
    "\n",
    "a) 50%\n",
    "\n",
    "b) 0.0010%\n",
    "\n",
    "c) 10%\n",
    "\n",
    "d) 0.0005%"
   ]
  },
  {
   "cell_type": "markdown",
   "id": "d798a835",
   "metadata": {},
   "source": [
    "Solution 2)\\\n",
    "P(A and B) = P(A) * P(B) assuming A and B are independant events.\\\n",
    "Therefore answer is D"
   ]
  },
  {
   "cell_type": "markdown",
   "id": "0376fbbd",
   "metadata": {},
   "source": [
    "3- A data scientist wants to study the behavior of users on the company website. Each time a user clicks on a link on the website, there is a 5% chance that the user will be asked to complete a short survey about their behavior on the website.\n",
    "\n",
    "The data scientist uses the survey data to conclude that, on average, users spend 15 minutes surfing the company website before moving on to other things. What is wrong with this conclusion?\n",
    "\n",
    "a) Customers should be asked to complete surveys 25% of the time.\n",
    "\n",
    "b) People who surf longer are likely to click more links, increasing the odds of getting a survey.\n",
    "\n",
    "c) The average internet user only surfs a site for 12 minutes, on average.\n",
    "\n",
    "d) The data scientist is not considering mobile applications."
   ]
  },
  {
   "cell_type": "markdown",
   "id": "c0c33f76",
   "metadata": {},
   "source": [
    "Solution 3)\\\n",
    "P(not getting a link after 100 clicks) = (1-0.05)**100\\\n",
    "P(getting atleast 1 link in 100 clicks) = 1-(1-0.05)**100 = 0.994\\\n",
    "Therefore If you spend more time you get a higher chance of getting a link.\\\n",
    "B is the most logical conclusion"
   ]
  },
  {
   "cell_type": "markdown",
   "id": "d44ce51e",
   "metadata": {},
   "source": [
    "4- A diagnostic test has a 98% probability of giving a positive result when applied to a person suffering from Thripshaw's disease and a 10% probability of giving a (false) positive when applied to a nonsufferer. It is estimated that 0.5% of the population has the disease.\n",
    "\n",
    "Suppose that the test is now administered to a person whose disease status is unknown. Calculate the probability that the test will be positive.\n",
    "\n",
    "a) 0.0049\n",
    "\n",
    "b) 0.0995\n",
    "\n",
    "c) 0.1044\n",
    "\n",
    "d) 0.995"
   ]
  },
  {
   "cell_type": "markdown",
   "id": "3fa21455",
   "metadata": {},
   "source": [
    "Solution 4)\\\n",
    "if we turn the input into mathematical equations:\\\n",
    "events: A = have disease , B =  test is positive\n",
    "\n",
    "P(B|not A) = 0.1\\\n",
    "P(A) = 0.005 and P(not A) = 0.995\\\n",
    "P(B|A) = 0.98\\\n",
    "P(B) = ? (is what we want to find)"
   ]
  },
  {
   "cell_type": "markdown",
   "id": "62da680b",
   "metadata": {},
   "source": [
    "P(B) = P(B|A) * P(A) + P(B|not A) * P(not A)\n",
    "     = 0.98 * 0.005 +0.1 * 0.995\n",
    "     = 0.1044 or 10.44%"
   ]
  },
  {
   "cell_type": "code",
   "execution_count": null,
   "id": "146d855a",
   "metadata": {},
   "outputs": [],
   "source": []
  },
  {
   "cell_type": "code",
   "execution_count": null,
   "id": "8ed421d2",
   "metadata": {},
   "outputs": [],
   "source": []
  },
  {
   "cell_type": "markdown",
   "id": "dfea62e3",
   "metadata": {},
   "source": [
    "\n",
    "*Please add the URL of the assignments you uploaded to Github to the Online Text section"
   ]
  },
  {
   "cell_type": "code",
   "execution_count": 34,
   "id": "a03c8027",
   "metadata": {},
   "outputs": [],
   "source": [
    "import os\n",
    "from shutil import copy2"
   ]
  },
  {
   "cell_type": "code",
   "execution_count": 35,
   "id": "063aa298",
   "metadata": {},
   "outputs": [
    {
     "data": {
      "text/plain": [
       "'/home/monkeyrampage/git/Magnimind/Assignments'"
      ]
     },
     "execution_count": 35,
     "metadata": {},
     "output_type": "execute_result"
    }
   ],
   "source": [
    "home_path = os.path.expanduser('~')    \n",
    "git_dir = os.path.join(home_path, \"git\")\n",
    "course_dir = os.path.join(git_dir, \"Magnimind\")\n",
    "submission_dir = os.path.join(course_dir, \"Assignments\")\n",
    "submission_dir"
   ]
  },
  {
   "cell_type": "code",
   "execution_count": 36,
   "id": "c3095d2f",
   "metadata": {},
   "outputs": [
    {
     "data": {
      "text/plain": [
       "'/home/monkeyrampage/Desktop/Magnimind/Assignments'"
      ]
     },
     "execution_count": 36,
     "metadata": {},
     "output_type": "execute_result"
    }
   ],
   "source": [
    "cwd = os.getcwd()\n",
    "cwd"
   ]
  },
  {
   "cell_type": "code",
   "execution_count": 37,
   "id": "dd836db5",
   "metadata": {},
   "outputs": [
    {
     "name": "stdout",
     "output_type": "stream",
     "text": [
      "Everything is ready for submission\n"
     ]
    }
   ],
   "source": [
    "error = False\n",
    "\n",
    "if not os.path.exists(git_dir):\n",
    "    print(\"git directory {} does not exist. Make sure you set git up correctly\".format(git_dir))\n",
    "    error = True\n",
    "elif not os.path.exists(course_dir):\n",
    "    print(\"Course's git repository does not exist under the git directory.\")\n",
    "    print(\"Make sure it is created as folder {}\".format(course_dir))\n",
    "    error = True\n",
    "elif not os.path.exists(submission_dir):\n",
    "    print(\"\\\"Submissions\\\" directory does not exist. Creating it...\")\n",
    "    os.makedirs(submission_dir)\n",
    "\n",
    "if not error:\n",
    "    print(\"Everything is ready for submission\")\n",
    "else:\n",
    "    assert(\"There were errors. Please fix them before proceeding!\")"
   ]
  },
  {
   "cell_type": "markdown",
   "id": "921dcafa",
   "metadata": {},
   "source": [
    "### Define the course and the assignment name down below: (Be careful!)"
   ]
  },
  {
   "cell_type": "code",
   "execution_count": 38,
   "id": "57e74ba3",
   "metadata": {},
   "outputs": [],
   "source": [
    "# CHANGE THIS CELL BEFORE EVERY ASSIGNMENT\n",
    "course_name = \"Statistics_\"\n",
    "assignment_name = \"ProbabilityAssignment\""
   ]
  },
  {
   "cell_type": "code",
   "execution_count": 39,
   "id": "bb2d3194",
   "metadata": {},
   "outputs": [
    {
     "data": {
      "text/plain": [
       "'Intro_Python_StringAssignment'"
      ]
     },
     "execution_count": 39,
     "metadata": {},
     "output_type": "execute_result"
    }
   ],
   "source": [
    "assignment_name = course_name + assignment_name\n",
    "assignment_name"
   ]
  },
  {
   "cell_type": "code",
   "execution_count": 40,
   "id": "497d9bd3",
   "metadata": {},
   "outputs": [
    {
     "name": "stdout",
     "output_type": "stream",
     "text": [
      "Copying file Intro_Python_StringAssignment.ipynb to /home/monkeyrampage/git/Magnimind/Assignments\n",
      "git add Intro_Python_StringAssignment.ipynb\n",
      "Submitting solution files for assignment: Intro_Python_StringAssignment\n",
      "git commit -m \"Solution files for assignment: Intro_Python_StringAssignment added\"\n",
      "[main 5d8793c] Solution files for assignment: Intro_Python_StringAssignment added\n",
      " 1 file changed, 355 insertions(+)\n",
      " create mode 100644 Assignments/Intro_Python_StringAssignment.ipynb\n",
      "git push origin main\n",
      "Done submitting solution files for assignment: Intro_Python_StringAssignment\n"
     ]
    },
    {
     "name": "stderr",
     "output_type": "stream",
     "text": [
      "To github.com:monkeyrampage/Magnimind.git\n",
      "   2970ff0..5d8793c  main -> main\n"
     ]
    }
   ],
   "source": [
    "files_to_be_copied = [assignment_name+\".ipynb\"]\n",
    "\n",
    "if not error:\n",
    "    for filename in files_to_be_copied:\n",
    "        print(\"Copying file {} to {}\".format(filename, submission_dir))\n",
    "        copy2(filename, submission_dir)\n",
    "        os.chdir(submission_dir)\n",
    "        git_add_command = \"git add {}\".format(filename)\n",
    "        print(git_add_command)\n",
    "        os.system(git_add_command)\n",
    "        os.chdir(cwd)\n",
    "    print(\"Submitting solution files for assignment: {}\".format(assignment_name))\n",
    "    os.chdir(submission_dir)\n",
    "    git_commit_command = \"git commit -m \\\"Solution files for assignment: {} added\\\"\".format(assignment_name)\n",
    "    print(git_commit_command)\n",
    "    os.system(git_commit_command)\n",
    "    git_push_command = \"git push origin main\"\n",
    "    print(git_push_command)\n",
    "    os.system(git_push_command)\n",
    "    os.chdir(cwd)\n",
    "    print(\"Done submitting solution files for assignment: {}\".format(assignment_name))"
   ]
  },
  {
   "cell_type": "code",
   "execution_count": null,
   "id": "80cc5585",
   "metadata": {},
   "outputs": [],
   "source": []
  }
 ],
 "metadata": {
  "kernelspec": {
   "display_name": "Python 3 (ipykernel)",
   "language": "python",
   "name": "python3"
  },
  "language_info": {
   "codemirror_mode": {
    "name": "ipython",
    "version": 3
   },
   "file_extension": ".py",
   "mimetype": "text/x-python",
   "name": "python",
   "nbconvert_exporter": "python",
   "pygments_lexer": "ipython3",
   "version": "3.11.0"
  }
 },
 "nbformat": 4,
 "nbformat_minor": 5
}
