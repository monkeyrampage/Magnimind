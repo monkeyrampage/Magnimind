{
 "cells": [
  {
   "cell_type": "markdown",
   "id": "837531ba",
   "metadata": {},
   "source": [
    "1- Suppose you invested in Bitcoin at the end of 2020 when Bitcoin gained a lot of value. What would be your money at the end of a week if you had invested $1000 with an average daily increase of 12% ? You can solve the problem using Python.\n",
    "\n",
    "\n",
    "Help\n",
    "\n",
    "    Create a variable capital ($1000)\n",
    "\n",
    "    Create a variable for daily growth (12%)\n",
    "\n",
    "    Create a variable for period (7)\n",
    "\n",
    "    Calculate the final growth rate\n",
    "\n",
    "    Calculate result\n",
    "\n",
    "    Print result"
   ]
  },
  {
   "cell_type": "code",
   "execution_count": null,
   "id": "e6b6bf9d",
   "metadata": {},
   "outputs": [],
   "source": [
    "capital = 1000\n",
    "daily_growth = 0.12\n",
    "period = 7\n",
    "\n",
    "final_growth_rate = (1 + daily_growth) ** period\n",
    "result = capital * final_growth_rate\n",
    "\n",
    "# Print the result\n",
    "print(\"At the end of the week, your investment would be worth ${:.2f}.\".format(result))"
   ]
  },
  {
   "cell_type": "markdown",
   "id": "815b12d9",
   "metadata": {},
   "source": [
    "2- Print the text in quotes with Python. However, you must get the numbers from variables using .format() notation. Because the text is long, you might consider writing in two lines:\n",
    "\n",
    "\"When we buy bitcoin with 1000 USD at the beginning of the week, we would earn 1210.68 USD at the end of the week, with an average gain of 12\\%.\""
   ]
  },
  {
   "cell_type": "code",
   "execution_count": 7,
   "id": "07578c95",
   "metadata": {},
   "outputs": [
    {
     "name": "stdout",
     "output_type": "stream",
     "text": [
      "When we buy bitcoin with 1000.00 USD at the beginning of the week, we would earn 1210.68 USD at the end of the week, with an average gain of 12%.\n"
     ]
    }
   ],
   "source": [
    "initial_investment = 1000\n",
    "final_value = 1210.68\n",
    "average_gain = 0.12\n",
    "\n",
    "text = \"When we buy bitcoin with {0:.2f} USD at the beginning of the week, we would earn \\\n",
    "{1:.2f} USD at the end of the week, with an average gain of {2:.0%}.\"\\\n",
    ".format(initial_investment, final_value, average_gain)\n",
    "\n",
    "print(text)"
   ]
  },
  {
   "cell_type": "markdown",
   "id": "09ae8da0",
   "metadata": {},
   "source": [
    "3- Get the temperature in Fahrenheit from user and write a code to convert it to Celcius. For conversion, you can use this formula: C = (5/9) * (F - 32)\n",
    "\n",
    "Enter the temperature in Fahrenheit:\n",
    "\n",
    "user --> 26\n",
    "\n",
    "output --> Temperature (C) : -3.33"
   ]
  },
  {
   "cell_type": "code",
   "execution_count": 3,
   "id": "69c4bf56",
   "metadata": {},
   "outputs": [
    {
     "name": "stdout",
     "output_type": "stream",
     "text": [
      "Enter the temperature in Fahrenheit: 75\n",
      "Temperature (C): 23.89\n"
     ]
    }
   ],
   "source": [
    "temp_f = float(input(\"Enter the temperature in Fahrenheit: \"))\n",
    "temp_c = (5/9) * (temp_f - 32)\n",
    "print(\"Temperature (C):\", round(temp_c, 2))"
   ]
  },
  {
   "cell_type": "markdown",
   "id": "ebf8a3b2",
   "metadata": {},
   "source": [
    "4- Get a three digit number the from user and calculate the sum of the digits in the integer.\n",
    "\n",
    "user --> 365\n",
    "\n",
    "output --> \"The sum of digits in the number is 14"
   ]
  },
  {
   "cell_type": "code",
   "execution_count": 2,
   "id": "9a82754e",
   "metadata": {},
   "outputs": [
    {
     "name": "stdout",
     "output_type": "stream",
     "text": [
      "Enter a three-digit number: 1542\n",
      "Error: Please enter a three-digit number.\n",
      "Enter a three-digit number: 153\n",
      "The sum of digits in the number is 9\n"
     ]
    }
   ],
   "source": [
    "num = input(\"Enter a three-digit number: \")\n",
    "\n",
    "# Check that the input is a three-digit number\n",
    "while not num.isdigit() or len(num) != 3:\n",
    "    print(\"Error: Please enter a three-digit number.\")\n",
    "    num = input(\"Enter a three-digit number: \")\n",
    "\n",
    "sum_of_digits = int(num[0]) + int(num[1]) + int(num[2])\n",
    "print(\"The sum of digits in the number is\", sum_of_digits)"
   ]
  },
  {
   "cell_type": "markdown",
   "id": "5e378a2c",
   "metadata": {},
   "source": [
    "5- Write some code to calculate the hypotenuse of a right angled triangle. Get the side lengths from the user.\n",
    "\n",
    "user --> first side lenth : 6\n",
    "\n",
    "user --> first side lenth : 8\n",
    "\n",
    "output --> \"The length of the hypotenuse is 10"
   ]
  },
  {
   "cell_type": "code",
   "execution_count": 1,
   "id": "5f3c90de",
   "metadata": {},
   "outputs": [
    {
     "name": "stdout",
     "output_type": "stream",
     "text": [
      "Enter the length of first side: 6\n",
      "Enter the length of second side: 8\n",
      "The length of the hypotenuse is 10.00\n"
     ]
    }
   ],
   "source": [
    "import math\n",
    "\n",
    "first_side_length = float(input(\"Enter the length of first side: \"))\n",
    "second_side_length = float(input(\"Enter the length of second side: \"))\n",
    "\n",
    "hypotenuse  = math.sqrt(first_side_length**2 + second_side_length**2)\n",
    "\n",
    "# print result\n",
    "print(f\"The length of the hypotenuse is { hypotenuse:.2f}\")"
   ]
  },
  {
   "cell_type": "code",
   "execution_count": null,
   "id": "17f8ec69",
   "metadata": {},
   "outputs": [],
   "source": []
  },
  {
   "cell_type": "markdown",
   "id": "dfea62e3",
   "metadata": {},
   "source": [
    "\n",
    "*Please add the URL of the assignments you uploaded to Github to the Online Text section"
   ]
  },
  {
   "cell_type": "code",
   "execution_count": 34,
   "id": "a03c8027",
   "metadata": {},
   "outputs": [],
   "source": [
    "import os\n",
    "from shutil import copy2"
   ]
  },
  {
   "cell_type": "code",
   "execution_count": 35,
   "id": "063aa298",
   "metadata": {},
   "outputs": [
    {
     "data": {
      "text/plain": [
       "'/home/monkeyrampage/git/Magnimind/Assignments'"
      ]
     },
     "execution_count": 35,
     "metadata": {},
     "output_type": "execute_result"
    }
   ],
   "source": [
    "home_path = os.path.expanduser('~')    \n",
    "git_dir = os.path.join(home_path, \"git\")\n",
    "course_dir = os.path.join(git_dir, \"Magnimind\")\n",
    "submission_dir = os.path.join(course_dir, \"Assignments\")\n",
    "submission_dir"
   ]
  },
  {
   "cell_type": "code",
   "execution_count": 36,
   "id": "c3095d2f",
   "metadata": {},
   "outputs": [
    {
     "data": {
      "text/plain": [
       "'/home/monkeyrampage/Desktop/Magnimind/Assignments'"
      ]
     },
     "execution_count": 36,
     "metadata": {},
     "output_type": "execute_result"
    }
   ],
   "source": [
    "cwd = os.getcwd()\n",
    "cwd"
   ]
  },
  {
   "cell_type": "code",
   "execution_count": 37,
   "id": "dd836db5",
   "metadata": {},
   "outputs": [
    {
     "name": "stdout",
     "output_type": "stream",
     "text": [
      "Everything is ready for submission\n"
     ]
    }
   ],
   "source": [
    "error = False\n",
    "\n",
    "if not os.path.exists(git_dir):\n",
    "    print(\"git directory {} does not exist. Make sure you set git up correctly\".format(git_dir))\n",
    "    error = True\n",
    "elif not os.path.exists(course_dir):\n",
    "    print(\"Course's git repository does not exist under the git directory.\")\n",
    "    print(\"Make sure it is created as folder {}\".format(course_dir))\n",
    "    error = True\n",
    "elif not os.path.exists(submission_dir):\n",
    "    print(\"\\\"Submissions\\\" directory does not exist. Creating it...\")\n",
    "    os.makedirs(submission_dir)\n",
    "\n",
    "if not error:\n",
    "    print(\"Everything is ready for submission\")\n",
    "else:\n",
    "    assert(\"There were errors. Please fix them before proceeding!\")"
   ]
  },
  {
   "cell_type": "markdown",
   "id": "921dcafa",
   "metadata": {},
   "source": [
    "Define the course and the assignment name down below:"
   ]
  },
  {
   "cell_type": "code",
   "execution_count": 38,
   "id": "57e74ba3",
   "metadata": {},
   "outputs": [],
   "source": [
    "# CHANGE THIS CELL BEFORE EVERY ASSIGNMENT\n",
    "course_name = \"Intro_Python_\"\n",
    "assignment_name = \"StringAssignment\""
   ]
  },
  {
   "cell_type": "code",
   "execution_count": 39,
   "id": "bb2d3194",
   "metadata": {},
   "outputs": [
    {
     "data": {
      "text/plain": [
       "'Intro_Python_StringAssignment'"
      ]
     },
     "execution_count": 39,
     "metadata": {},
     "output_type": "execute_result"
    }
   ],
   "source": [
    "assignment_name = course_name + assignment_name\n",
    "assignment_name"
   ]
  },
  {
   "cell_type": "code",
   "execution_count": 40,
   "id": "497d9bd3",
   "metadata": {},
   "outputs": [
    {
     "name": "stdout",
     "output_type": "stream",
     "text": [
      "Copying file Intro_Python_StringAssignment.ipynb to /home/monkeyrampage/git/Magnimind/Assignments\n",
      "git add Intro_Python_StringAssignment.ipynb\n",
      "Submitting solution files for assignment: Intro_Python_StringAssignment\n",
      "git commit -m \"Solution files for assignment: Intro_Python_StringAssignment added\"\n",
      "[main 5d8793c] Solution files for assignment: Intro_Python_StringAssignment added\n",
      " 1 file changed, 355 insertions(+)\n",
      " create mode 100644 Assignments/Intro_Python_StringAssignment.ipynb\n",
      "git push origin main\n",
      "Done submitting solution files for assignment: Intro_Python_StringAssignment\n"
     ]
    },
    {
     "name": "stderr",
     "output_type": "stream",
     "text": [
      "To github.com:monkeyrampage/Magnimind.git\n",
      "   2970ff0..5d8793c  main -> main\n"
     ]
    }
   ],
   "source": [
    "files_to_be_copied = [assignment_name+\".ipynb\"]\n",
    "\n",
    "if not error:\n",
    "    for filename in files_to_be_copied:\n",
    "        print(\"Copying file {} to {}\".format(filename, submission_dir))\n",
    "        copy2(filename, submission_dir)\n",
    "        os.chdir(submission_dir)\n",
    "        git_add_command = \"git add {}\".format(filename)\n",
    "        print(git_add_command)\n",
    "        os.system(git_add_command)\n",
    "        os.chdir(cwd)\n",
    "    print(\"Submitting solution files for assignment: {}\".format(assignment_name))\n",
    "    os.chdir(submission_dir)\n",
    "    git_commit_command = \"git commit -m \\\"Solution files for assignment: {} added\\\"\".format(assignment_name)\n",
    "    print(git_commit_command)\n",
    "    os.system(git_commit_command)\n",
    "    git_push_command = \"git push origin main\"\n",
    "    print(git_push_command)\n",
    "    os.system(git_push_command)\n",
    "    os.chdir(cwd)\n",
    "    print(\"Done submitting solution files for assignment: {}\".format(assignment_name))"
   ]
  },
  {
   "cell_type": "code",
   "execution_count": null,
   "id": "80cc5585",
   "metadata": {},
   "outputs": [],
   "source": []
  }
 ],
 "metadata": {
  "kernelspec": {
   "display_name": "Python 3 (ipykernel)",
   "language": "python",
   "name": "python3"
  },
  "language_info": {
   "codemirror_mode": {
    "name": "ipython",
    "version": 3
   },
   "file_extension": ".py",
   "mimetype": "text/x-python",
   "name": "python",
   "nbconvert_exporter": "python",
   "pygments_lexer": "ipython3",
   "version": "3.11.0"
  }
 },
 "nbformat": 4,
 "nbformat_minor": 5
}
