{
 "cells": [
  {
   "cell_type": "markdown",
   "id": "3b559151",
   "metadata": {},
   "source": [
    "1- Create a dictionary with 7 days. Ask the user to choose 2 different days by listing the (e.g. \"12\" for Monday and Tuesday). Delete the user-selected days from the dictionary and print the remaining 5 days on the screen."
   ]
  },
  {
   "cell_type": "code",
   "execution_count": 2,
   "id": "a24b8385",
   "metadata": {},
   "outputs": [
    {
     "name": "stdout",
     "output_type": "stream",
     "text": [
      "Enter a 2-digit number less than 78 to represent the days you want to be deleted: 89\n",
      "Enter a 2-digit number less than 78.\n",
      "Enter a 2-digit number less than 78 to represent the days you want to be deleted: 78\n",
      "Enter a 2-digit number less than 78.\n",
      "Enter a 2-digit number less than 78 to represent the days you want to be deleted: u234\n",
      "Enter a 2-digit number less than 78.\n",
      "Enter a 2-digit number less than 78 to represent the days you want to be deleted: 36\n",
      "Remaining days: Monday, Tuesday, Thursday, Friday, Sunday\n"
     ]
    }
   ],
   "source": [
    "days = {\n",
    "    1: \"Monday\",\n",
    "    2: \"Tuesday\",\n",
    "    3: \"Wednesday\",\n",
    "    4: \"Thursday\",\n",
    "    5: \"Friday\",\n",
    "    6: \"Saturday\",\n",
    "    7: \"Sunday\"\n",
    "}\n",
    "\n",
    "while True:\n",
    "    delete_days = input(\"Enter a 2-digit number less than 78 to represent the days you want to be deleted: \")\n",
    "    if len(delete_days) != 2 or not delete_days.isdigit() or int(delete_days) >= 78:\n",
    "        print(\"Enter a 2-digit number less than 78.\")\n",
    "    else:\n",
    "        break\n",
    "\n",
    "delete_days_list = [int(day) for day in str(delete_days)]\n",
    "for day in delete_days_list:\n",
    "    if day not in days:\n",
    "        print(f\"Error: {day} is not a valid day.\")\n",
    "        exit()\n",
    "    del days[day]\n",
    "\n",
    "print(\"Remaining days:\", \", \".join(days.values()))"
   ]
  },
  {
   "cell_type": "markdown",
   "id": "e46e7730",
   "metadata": {},
   "source": [
    "2- Create a dictionary with the following personnel. Use names as keys.\n",
    "(Michael (age: 20)\n",
    "(Linda (age: 30)"
   ]
  },
  {
   "cell_type": "code",
   "execution_count": 3,
   "id": "68c1e760",
   "metadata": {},
   "outputs": [],
   "source": [
    "personnel = {\n",
    "    \"Michael\": {\"age\": 20},\n",
    "    \"Linda\": {\"age\": 30}\n",
    "}"
   ]
  },
  {
   "cell_type": "markdown",
   "id": "3cb518ea",
   "metadata": {},
   "source": [
    "3- Add child information to Michael and Linda. Michael has two children (Karen (age : 12, female) and Greg (age : 7, male) and Linda has one child (Susan (age: 6, female))"
   ]
  },
  {
   "cell_type": "code",
   "execution_count": 4,
   "id": "57cfb46e",
   "metadata": {},
   "outputs": [],
   "source": [
    "personnel = {\n",
    "    \"Michael\": {\n",
    "        \"age\": 20,\n",
    "        \"children\": {\n",
    "            \"Karen\": {\"age\": 12, \"gender\": \"female\"},\n",
    "            \"Greg\": {\"age\": 7, \"gender\": \"male\"}\n",
    "        }\n",
    "    },\n",
    "    \"Linda\": {\n",
    "        \"age\": 30,\n",
    "        \"children\": {\n",
    "            \"Susan\": {\"age\": 6, \"gender\": \"female\"}\n",
    "        }\n",
    "    }\n",
    "}"
   ]
  },
  {
   "cell_type": "markdown",
   "id": "a403257c",
   "metadata": {},
   "source": [
    "4- Print the names of Michael's children in a list."
   ]
  },
  {
   "cell_type": "code",
   "execution_count": null,
   "id": "433f053e",
   "metadata": {},
   "outputs": [],
   "source": [
    "michaels_children = personnel[\"Michael\"][\"children\"]\n",
    "michaels_children_names_list = list(michaels_children.keys())\n",
    "\n",
    "# print the list of Michael's children names\n",
    "print(michaels_children_names)"
   ]
  },
  {
   "cell_type": "markdown",
   "id": "dfea62e3",
   "metadata": {},
   "source": [
    "\n",
    "*Please add the URL of the assignments you uploaded to Github to the Online Text section"
   ]
  },
  {
   "cell_type": "code",
   "execution_count": 34,
   "id": "a03c8027",
   "metadata": {},
   "outputs": [],
   "source": [
    "import os\n",
    "from shutil import copy2"
   ]
  },
  {
   "cell_type": "code",
   "execution_count": 35,
   "id": "063aa298",
   "metadata": {},
   "outputs": [
    {
     "data": {
      "text/plain": [
       "'/home/monkeyrampage/git/Magnimind/Assignments'"
      ]
     },
     "execution_count": 35,
     "metadata": {},
     "output_type": "execute_result"
    }
   ],
   "source": [
    "home_path = os.path.expanduser('~')    \n",
    "git_dir = os.path.join(home_path, \"git\")\n",
    "course_dir = os.path.join(git_dir, \"Magnimind\")\n",
    "submission_dir = os.path.join(course_dir, \"Assignments\")\n",
    "submission_dir"
   ]
  },
  {
   "cell_type": "code",
   "execution_count": 36,
   "id": "c3095d2f",
   "metadata": {},
   "outputs": [
    {
     "data": {
      "text/plain": [
       "'/home/monkeyrampage/Desktop/Magnimind/Assignments'"
      ]
     },
     "execution_count": 36,
     "metadata": {},
     "output_type": "execute_result"
    }
   ],
   "source": [
    "cwd = os.getcwd()\n",
    "cwd"
   ]
  },
  {
   "cell_type": "code",
   "execution_count": 37,
   "id": "dd836db5",
   "metadata": {},
   "outputs": [
    {
     "name": "stdout",
     "output_type": "stream",
     "text": [
      "Everything is ready for submission\n"
     ]
    }
   ],
   "source": [
    "error = False\n",
    "\n",
    "if not os.path.exists(git_dir):\n",
    "    print(\"git directory {} does not exist. Make sure you set git up correctly\".format(git_dir))\n",
    "    error = True\n",
    "elif not os.path.exists(course_dir):\n",
    "    print(\"Course's git repository does not exist under the git directory.\")\n",
    "    print(\"Make sure it is created as folder {}\".format(course_dir))\n",
    "    error = True\n",
    "elif not os.path.exists(submission_dir):\n",
    "    print(\"\\\"Submissions\\\" directory does not exist. Creating it...\")\n",
    "    os.makedirs(submission_dir)\n",
    "\n",
    "if not error:\n",
    "    print(\"Everything is ready for submission\")\n",
    "else:\n",
    "    assert(\"There were errors. Please fix them before proceeding!\")"
   ]
  },
  {
   "cell_type": "markdown",
   "id": "921dcafa",
   "metadata": {},
   "source": [
    "Define the course and the assignment name down below:"
   ]
  },
  {
   "cell_type": "code",
   "execution_count": 38,
   "id": "57e74ba3",
   "metadata": {},
   "outputs": [],
   "source": [
    "# CHANGE THIS CELL BEFORE EVERY ASSIGNMENT\n",
    "course_name = \"Intro_Python_\"\n",
    "assignment_name = \"StringAssignment\""
   ]
  },
  {
   "cell_type": "code",
   "execution_count": 39,
   "id": "bb2d3194",
   "metadata": {},
   "outputs": [
    {
     "data": {
      "text/plain": [
       "'Intro_Python_StringAssignment'"
      ]
     },
     "execution_count": 39,
     "metadata": {},
     "output_type": "execute_result"
    }
   ],
   "source": [
    "assignment_name = course_name + assignment_name\n",
    "assignment_name"
   ]
  },
  {
   "cell_type": "code",
   "execution_count": 40,
   "id": "497d9bd3",
   "metadata": {},
   "outputs": [
    {
     "name": "stdout",
     "output_type": "stream",
     "text": [
      "Copying file Intro_Python_StringAssignment.ipynb to /home/monkeyrampage/git/Magnimind/Assignments\n",
      "git add Intro_Python_StringAssignment.ipynb\n",
      "Submitting solution files for assignment: Intro_Python_StringAssignment\n",
      "git commit -m \"Solution files for assignment: Intro_Python_StringAssignment added\"\n",
      "[main 5d8793c] Solution files for assignment: Intro_Python_StringAssignment added\n",
      " 1 file changed, 355 insertions(+)\n",
      " create mode 100644 Assignments/Intro_Python_StringAssignment.ipynb\n",
      "git push origin main\n",
      "Done submitting solution files for assignment: Intro_Python_StringAssignment\n"
     ]
    },
    {
     "name": "stderr",
     "output_type": "stream",
     "text": [
      "To github.com:monkeyrampage/Magnimind.git\n",
      "   2970ff0..5d8793c  main -> main\n"
     ]
    }
   ],
   "source": [
    "files_to_be_copied = [assignment_name+\".ipynb\"]\n",
    "\n",
    "if not error:\n",
    "    for filename in files_to_be_copied:\n",
    "        print(\"Copying file {} to {}\".format(filename, submission_dir))\n",
    "        copy2(filename, submission_dir)\n",
    "        os.chdir(submission_dir)\n",
    "        git_add_command = \"git add {}\".format(filename)\n",
    "        print(git_add_command)\n",
    "        os.system(git_add_command)\n",
    "        os.chdir(cwd)\n",
    "    print(\"Submitting solution files for assignment: {}\".format(assignment_name))\n",
    "    os.chdir(submission_dir)\n",
    "    git_commit_command = \"git commit -m \\\"Solution files for assignment: {} added\\\"\".format(assignment_name)\n",
    "    print(git_commit_command)\n",
    "    os.system(git_commit_command)\n",
    "    git_push_command = \"git push origin main\"\n",
    "    print(git_push_command)\n",
    "    os.system(git_push_command)\n",
    "    os.chdir(cwd)\n",
    "    print(\"Done submitting solution files for assignment: {}\".format(assignment_name))"
   ]
  },
  {
   "cell_type": "code",
   "execution_count": null,
   "id": "80cc5585",
   "metadata": {},
   "outputs": [],
   "source": []
  }
 ],
 "metadata": {
  "kernelspec": {
   "display_name": "Python 3 (ipykernel)",
   "language": "python",
   "name": "python3"
  },
  "language_info": {
   "codemirror_mode": {
    "name": "ipython",
    "version": 3
   },
   "file_extension": ".py",
   "mimetype": "text/x-python",
   "name": "python",
   "nbconvert_exporter": "python",
   "pygments_lexer": "ipython3",
   "version": "3.11.0"
  }
 },
 "nbformat": 4,
 "nbformat_minor": 5
}
