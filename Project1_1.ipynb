{
 "cells": [
  {
   "cell_type": "markdown",
   "id": "72797f5d",
   "metadata": {},
   "source": [
    "# MAGNIMIND PROJECT 1\n",
    "### **Ad A/B Testing**\n",
    "https://www.kaggle.com/datasets/osuolaleemmanuel/ad-ab-testing/code"
   ]
  },
  {
   "cell_type": "markdown",
   "id": "b47c48b0",
   "metadata": {},
   "source": [
    "This is the first draft of a working cod on data cleaning, visual analysis and statistical analysis for A/B testing of above kaggle data set."
   ]
  },
  {
   "cell_type": "markdown",
   "id": "f3c53e90",
   "metadata": {},
   "source": [
    "### **Imports**"
   ]
  },
  {
   "cell_type": "code",
   "execution_count": 1,
   "id": "3e7b1bfc",
   "metadata": {
    "tags": []
   },
   "outputs": [],
   "source": [
    "from math import  sqrt\n",
    "\n",
    "import pandas as pd\n",
    "import numpy as np\n",
    "\n",
    "import scipy.stats as stats\n",
    "from scipy.stats import norm\n",
    "\n",
    "import seaborn as sns\n",
    "import matplotlib.pyplot as plt\n",
    "from matplotlib.lines import Line2D\n",
    "%matplotlib inline"
   ]
  },
  {
   "cell_type": "code",
   "execution_count": 2,
   "id": "a817f4d7",
   "metadata": {
    "tags": []
   },
   "outputs": [],
   "source": [
    "df = pd.read_csv('ABdata.csv')"
   ]
  },
  {
   "cell_type": "code",
   "execution_count": 3,
   "id": "5bc85167",
   "metadata": {
    "tags": []
   },
   "outputs": [
    {
     "data": {
      "text/html": [
       "<div>\n",
       "<style scoped>\n",
       "    .dataframe tbody tr th:only-of-type {\n",
       "        vertical-align: middle;\n",
       "    }\n",
       "\n",
       "    .dataframe tbody tr th {\n",
       "        vertical-align: top;\n",
       "    }\n",
       "\n",
       "    .dataframe thead th {\n",
       "        text-align: right;\n",
       "    }\n",
       "</style>\n",
       "<table border=\"1\" class=\"dataframe\">\n",
       "  <thead>\n",
       "    <tr style=\"text-align: right;\">\n",
       "      <th></th>\n",
       "      <th>auction_id</th>\n",
       "      <th>experiment</th>\n",
       "      <th>date</th>\n",
       "      <th>hour</th>\n",
       "      <th>device_make</th>\n",
       "      <th>platform_os</th>\n",
       "      <th>browser</th>\n",
       "      <th>yes</th>\n",
       "      <th>no</th>\n",
       "    </tr>\n",
       "  </thead>\n",
       "  <tbody>\n",
       "    <tr>\n",
       "      <th>0</th>\n",
       "      <td>0008ef63-77a7-448b-bd1e-075f42c55e39</td>\n",
       "      <td>exposed</td>\n",
       "      <td>2020-07-10</td>\n",
       "      <td>8</td>\n",
       "      <td>Generic Smartphone</td>\n",
       "      <td>6</td>\n",
       "      <td>Chrome Mobile</td>\n",
       "      <td>0</td>\n",
       "      <td>0</td>\n",
       "    </tr>\n",
       "    <tr>\n",
       "      <th>1</th>\n",
       "      <td>000eabc5-17ce-4137-8efe-44734d914446</td>\n",
       "      <td>exposed</td>\n",
       "      <td>2020-07-07</td>\n",
       "      <td>10</td>\n",
       "      <td>Generic Smartphone</td>\n",
       "      <td>6</td>\n",
       "      <td>Chrome Mobile</td>\n",
       "      <td>0</td>\n",
       "      <td>0</td>\n",
       "    </tr>\n",
       "    <tr>\n",
       "      <th>2</th>\n",
       "      <td>0016d14a-ae18-4a02-a204-6ba53b52f2ed</td>\n",
       "      <td>exposed</td>\n",
       "      <td>2020-07-05</td>\n",
       "      <td>2</td>\n",
       "      <td>E5823</td>\n",
       "      <td>6</td>\n",
       "      <td>Chrome Mobile WebView</td>\n",
       "      <td>0</td>\n",
       "      <td>1</td>\n",
       "    </tr>\n",
       "    <tr>\n",
       "      <th>3</th>\n",
       "      <td>00187412-2932-4542-a8ef-3633901c98d9</td>\n",
       "      <td>control</td>\n",
       "      <td>2020-07-03</td>\n",
       "      <td>15</td>\n",
       "      <td>Samsung SM-A705FN</td>\n",
       "      <td>6</td>\n",
       "      <td>Facebook</td>\n",
       "      <td>0</td>\n",
       "      <td>0</td>\n",
       "    </tr>\n",
       "    <tr>\n",
       "      <th>4</th>\n",
       "      <td>001a7785-d3fe-4e11-a344-c8735acacc2c</td>\n",
       "      <td>control</td>\n",
       "      <td>2020-07-03</td>\n",
       "      <td>15</td>\n",
       "      <td>Generic Smartphone</td>\n",
       "      <td>6</td>\n",
       "      <td>Chrome Mobile</td>\n",
       "      <td>0</td>\n",
       "      <td>0</td>\n",
       "    </tr>\n",
       "  </tbody>\n",
       "</table>\n",
       "</div>"
      ],
      "text/plain": [
       "                             auction_id experiment        date  hour  \\\n",
       "0  0008ef63-77a7-448b-bd1e-075f42c55e39    exposed  2020-07-10     8   \n",
       "1  000eabc5-17ce-4137-8efe-44734d914446    exposed  2020-07-07    10   \n",
       "2  0016d14a-ae18-4a02-a204-6ba53b52f2ed    exposed  2020-07-05     2   \n",
       "3  00187412-2932-4542-a8ef-3633901c98d9    control  2020-07-03    15   \n",
       "4  001a7785-d3fe-4e11-a344-c8735acacc2c    control  2020-07-03    15   \n",
       "\n",
       "          device_make  platform_os                browser  yes  no  \n",
       "0  Generic Smartphone            6          Chrome Mobile    0   0  \n",
       "1  Generic Smartphone            6          Chrome Mobile    0   0  \n",
       "2               E5823            6  Chrome Mobile WebView    0   1  \n",
       "3   Samsung SM-A705FN            6               Facebook    0   0  \n",
       "4  Generic Smartphone            6          Chrome Mobile    0   0  "
      ]
     },
     "execution_count": 3,
     "metadata": {},
     "output_type": "execute_result"
    }
   ],
   "source": [
    "df.head()"
   ]
  },
  {
   "cell_type": "code",
   "execution_count": 4,
   "id": "59829f06",
   "metadata": {
    "tags": []
   },
   "outputs": [
    {
     "data": {
      "text/plain": [
       "(8077, 9)"
      ]
     },
     "execution_count": 4,
     "metadata": {},
     "output_type": "execute_result"
    }
   ],
   "source": [
    "df.shape #, df.dtypes"
   ]
  },
  {
   "cell_type": "code",
   "execution_count": 5,
   "id": "cbdb428a",
   "metadata": {
    "tags": []
   },
   "outputs": [
    {
     "data": {
      "text/plain": [
       "Index(['auction_id', 'experiment', 'date', 'hour', 'device_make',\n",
       "       'platform_os', 'browser', 'yes', 'no'],\n",
       "      dtype='object')"
      ]
     },
     "execution_count": 5,
     "metadata": {},
     "output_type": "execute_result"
    }
   ],
   "source": [
    "df.columns"
   ]
  },
  {
   "cell_type": "code",
   "execution_count": 6,
   "id": "91c618ea",
   "metadata": {
    "tags": []
   },
   "outputs": [
    {
     "name": "stdout",
     "output_type": "stream",
     "text": [
      "<class 'pandas.core.frame.DataFrame'>\n",
      "RangeIndex: 8077 entries, 0 to 8076\n",
      "Data columns (total 9 columns):\n",
      " #   Column       Non-Null Count  Dtype \n",
      "---  ------       --------------  ----- \n",
      " 0   auction_id   8077 non-null   object\n",
      " 1   experiment   8077 non-null   object\n",
      " 2   date         8077 non-null   object\n",
      " 3   hour         8077 non-null   int64 \n",
      " 4   device_make  8077 non-null   object\n",
      " 5   platform_os  8077 non-null   int64 \n",
      " 6   browser      8077 non-null   object\n",
      " 7   yes          8077 non-null   int64 \n",
      " 8   no           8077 non-null   int64 \n",
      "dtypes: int64(4), object(5)\n",
      "memory usage: 568.0+ KB\n"
     ]
    }
   ],
   "source": [
    "df.info()"
   ]
  },
  {
   "cell_type": "markdown",
   "id": "5d658fdf",
   "metadata": {},
   "source": [
    "Lets check if there are any dublicated data via checking on auction_id column"
   ]
  },
  {
   "cell_type": "code",
   "execution_count": 7,
   "id": "021b6035",
   "metadata": {
    "tags": []
   },
   "outputs": [
    {
     "data": {
      "text/plain": [
       "0"
      ]
     },
     "execution_count": 7,
     "metadata": {},
     "output_type": "execute_result"
    }
   ],
   "source": [
    "num_duplicates = sum(df.duplicated(subset=['auction_id']))\n",
    "num_duplicates"
   ]
  },
  {
   "cell_type": "code",
   "execution_count": 8,
   "id": "f221b28a",
   "metadata": {
    "tags": []
   },
   "outputs": [
    {
     "data": {
      "text/plain": [
       "(False, False)"
      ]
     },
     "execution_count": 8,
     "metadata": {},
     "output_type": "execute_result"
    }
   ],
   "source": [
    "df.isnull().values.any() , df.isna().values.any()"
   ]
  },
  {
   "cell_type": "markdown",
   "id": "f5d2046f",
   "metadata": {},
   "source": [
    "There are no dublicated data, no null or NA values in data."
   ]
  },
  {
   "cell_type": "code",
   "execution_count": 9,
   "id": "9db30496",
   "metadata": {
    "tags": []
   },
   "outputs": [
    {
     "data": {
      "text/html": [
       "<div>\n",
       "<style scoped>\n",
       "    .dataframe tbody tr th:only-of-type {\n",
       "        vertical-align: middle;\n",
       "    }\n",
       "\n",
       "    .dataframe tbody tr th {\n",
       "        vertical-align: top;\n",
       "    }\n",
       "\n",
       "    .dataframe thead th {\n",
       "        text-align: right;\n",
       "    }\n",
       "</style>\n",
       "<table border=\"1\" class=\"dataframe\">\n",
       "  <thead>\n",
       "    <tr style=\"text-align: right;\">\n",
       "      <th></th>\n",
       "      <th>yes</th>\n",
       "      <th>no</th>\n",
       "    </tr>\n",
       "    <tr>\n",
       "      <th>experiment</th>\n",
       "      <th></th>\n",
       "      <th></th>\n",
       "    </tr>\n",
       "  </thead>\n",
       "  <tbody>\n",
       "    <tr>\n",
       "      <th>control</th>\n",
       "      <td>264</td>\n",
       "      <td>322</td>\n",
       "    </tr>\n",
       "    <tr>\n",
       "      <th>exposed</th>\n",
       "      <td>308</td>\n",
       "      <td>349</td>\n",
       "    </tr>\n",
       "  </tbody>\n",
       "</table>\n",
       "</div>"
      ],
      "text/plain": [
       "            yes   no\n",
       "experiment          \n",
       "control     264  322\n",
       "exposed     308  349"
      ]
     },
     "execution_count": 9,
     "metadata": {},
     "output_type": "execute_result"
    }
   ],
   "source": [
    "respond_table = df.groupby(['experiment'])[['yes','no']].sum(numeric_only=True)\n",
    "respond_table"
   ]
  },
  {
   "cell_type": "markdown",
   "id": "1e51d742",
   "metadata": {},
   "source": [
    "### **Preprocessing**"
   ]
  },
  {
   "cell_type": "markdown",
   "id": "ca2c441a",
   "metadata": {},
   "source": [
    "First off all, lets convert date column to datetime format"
   ]
  },
  {
   "cell_type": "code",
   "execution_count": 10,
   "id": "ce19b35c",
   "metadata": {
    "tags": []
   },
   "outputs": [
    {
     "name": "stdout",
     "output_type": "stream",
     "text": [
      "<class 'pandas.core.series.Series'>\n",
      "RangeIndex: 8077 entries, 0 to 8076\n",
      "Series name: date\n",
      "Non-Null Count  Dtype         \n",
      "--------------  -----         \n",
      "8077 non-null   datetime64[ns]\n",
      "dtypes: datetime64[ns](1)\n",
      "memory usage: 63.2 KB\n"
     ]
    }
   ],
   "source": [
    "# convert the 'date' column to datetime format\n",
    "df['date']= pd.to_datetime(df['date'])\n",
    "df['date'].info()"
   ]
  },
  {
   "cell_type": "markdown",
   "id": "92ad3a90",
   "metadata": {},
   "source": [
    "lets split device_make column into a 'device' column and a 'model' column:"
   ]
  },
  {
   "cell_type": "code",
   "execution_count": 11,
   "id": "743300cf",
   "metadata": {
    "tags": []
   },
   "outputs": [],
   "source": [
    "df[['device', 'model']] = df['device_make'].str.split(n=1, expand=True)"
   ]
  },
  {
   "cell_type": "code",
   "execution_count": 12,
   "id": "672ceef4",
   "metadata": {
    "tags": []
   },
   "outputs": [
    {
     "data": {
      "text/plain": [
       "Index(['auction_id', 'experiment', 'date', 'hour', 'device_make',\n",
       "       'platform_os', 'browser', 'yes', 'no', 'device', 'model'],\n",
       "      dtype='object')"
      ]
     },
     "execution_count": 12,
     "metadata": {},
     "output_type": "execute_result"
    }
   ],
   "source": [
    "df.columns"
   ]
  },
  {
   "cell_type": "markdown",
   "id": "e3962ecf",
   "metadata": {},
   "source": [
    "Lets drop the columns that wont be used for analysis"
   ]
  },
  {
   "cell_type": "code",
   "execution_count": 13,
   "id": "7ee76b82",
   "metadata": {
    "tags": []
   },
   "outputs": [],
   "source": [
    "df2 = df[['experiment', 'yes', 'no', 'date', 'hour', 'device', 'model', 'browser']]"
   ]
  },
  {
   "cell_type": "code",
   "execution_count": 14,
   "id": "1c878b5f",
   "metadata": {
    "scrolled": true,
    "tags": []
   },
   "outputs": [
    {
     "data": {
      "text/html": [
       "<div>\n",
       "<style scoped>\n",
       "    .dataframe tbody tr th:only-of-type {\n",
       "        vertical-align: middle;\n",
       "    }\n",
       "\n",
       "    .dataframe tbody tr th {\n",
       "        vertical-align: top;\n",
       "    }\n",
       "\n",
       "    .dataframe thead th {\n",
       "        text-align: right;\n",
       "    }\n",
       "</style>\n",
       "<table border=\"1\" class=\"dataframe\">\n",
       "  <thead>\n",
       "    <tr style=\"text-align: right;\">\n",
       "      <th></th>\n",
       "      <th>experiment</th>\n",
       "      <th>yes</th>\n",
       "      <th>no</th>\n",
       "      <th>date</th>\n",
       "      <th>hour</th>\n",
       "      <th>device</th>\n",
       "      <th>model</th>\n",
       "      <th>browser</th>\n",
       "    </tr>\n",
       "  </thead>\n",
       "  <tbody>\n",
       "    <tr>\n",
       "      <th>0</th>\n",
       "      <td>exposed</td>\n",
       "      <td>0</td>\n",
       "      <td>0</td>\n",
       "      <td>2020-07-10</td>\n",
       "      <td>8</td>\n",
       "      <td>Generic</td>\n",
       "      <td>Smartphone</td>\n",
       "      <td>Chrome Mobile</td>\n",
       "    </tr>\n",
       "    <tr>\n",
       "      <th>1</th>\n",
       "      <td>exposed</td>\n",
       "      <td>0</td>\n",
       "      <td>0</td>\n",
       "      <td>2020-07-07</td>\n",
       "      <td>10</td>\n",
       "      <td>Generic</td>\n",
       "      <td>Smartphone</td>\n",
       "      <td>Chrome Mobile</td>\n",
       "    </tr>\n",
       "    <tr>\n",
       "      <th>2</th>\n",
       "      <td>exposed</td>\n",
       "      <td>0</td>\n",
       "      <td>1</td>\n",
       "      <td>2020-07-05</td>\n",
       "      <td>2</td>\n",
       "      <td>E5823</td>\n",
       "      <td>None</td>\n",
       "      <td>Chrome Mobile WebView</td>\n",
       "    </tr>\n",
       "    <tr>\n",
       "      <th>3</th>\n",
       "      <td>control</td>\n",
       "      <td>0</td>\n",
       "      <td>0</td>\n",
       "      <td>2020-07-03</td>\n",
       "      <td>15</td>\n",
       "      <td>Samsung</td>\n",
       "      <td>SM-A705FN</td>\n",
       "      <td>Facebook</td>\n",
       "    </tr>\n",
       "    <tr>\n",
       "      <th>4</th>\n",
       "      <td>control</td>\n",
       "      <td>0</td>\n",
       "      <td>0</td>\n",
       "      <td>2020-07-03</td>\n",
       "      <td>15</td>\n",
       "      <td>Generic</td>\n",
       "      <td>Smartphone</td>\n",
       "      <td>Chrome Mobile</td>\n",
       "    </tr>\n",
       "  </tbody>\n",
       "</table>\n",
       "</div>"
      ],
      "text/plain": [
       "  experiment  yes  no       date  hour   device       model  \\\n",
       "0    exposed    0   0 2020-07-10     8  Generic  Smartphone   \n",
       "1    exposed    0   0 2020-07-07    10  Generic  Smartphone   \n",
       "2    exposed    0   1 2020-07-05     2    E5823        None   \n",
       "3    control    0   0 2020-07-03    15  Samsung   SM-A705FN   \n",
       "4    control    0   0 2020-07-03    15  Generic  Smartphone   \n",
       "\n",
       "                 browser  \n",
       "0          Chrome Mobile  \n",
       "1          Chrome Mobile  \n",
       "2  Chrome Mobile WebView  \n",
       "3               Facebook  \n",
       "4          Chrome Mobile  "
      ]
     },
     "execution_count": 14,
     "metadata": {},
     "output_type": "execute_result"
    }
   ],
   "source": [
    "df2.head()"
   ]
  },
  {
   "cell_type": "markdown",
   "id": "05608e76",
   "metadata": {},
   "source": [
    "Let's split the data into two parts now, those who responded and those havent"
   ]
  },
  {
   "cell_type": "markdown",
   "id": "f7cea698",
   "metadata": {},
   "source": [
    "As a sanity check lets look for data with both yes and no response ( which shouldn't happen )"
   ]
  },
  {
   "cell_type": "code",
   "execution_count": 15,
   "id": "776d95ba",
   "metadata": {
    "scrolled": true,
    "tags": []
   },
   "outputs": [
    {
     "data": {
      "text/plain": [
       "yes     0.0\n",
       "no      0.0\n",
       "hour    0.0\n",
       "dtype: float64"
      ]
     },
     "execution_count": 15,
     "metadata": {},
     "output_type": "execute_result"
    }
   ],
   "source": [
    "df2[((df2['yes']==1)&(df2['no']==1))].sum(numeric_only=True)"
   ]
  },
  {
   "cell_type": "code",
   "execution_count": 16,
   "id": "34c31014",
   "metadata": {
    "tags": []
   },
   "outputs": [],
   "source": [
    "df_response = df2[~((df2['yes']== 0) & (df2['no']== 0))]\n",
    "df_Noresponse =  df2[(df2['yes']== 0) & (df2['no']== 0)]"
   ]
  },
  {
   "cell_type": "code",
   "execution_count": null,
   "id": "9556efc3-11d6-43bf-b412-94748cca9909",
   "metadata": {},
   "outputs": [],
   "source": []
  },
  {
   "cell_type": "markdown",
   "id": "6260560f",
   "metadata": {},
   "source": [
    "### **Data analysis**"
   ]
  },
  {
   "cell_type": "code",
   "execution_count": 17,
   "id": "05170f35",
   "metadata": {
    "tags": []
   },
   "outputs": [
    {
     "data": {
      "text/plain": [
       "((1243, 8), (6834, 8))"
      ]
     },
     "execution_count": 17,
     "metadata": {},
     "output_type": "execute_result"
    }
   ],
   "source": [
    "df_response.shape , df_Noresponse.shape"
   ]
  },
  {
   "cell_type": "markdown",
   "id": "abe143fd",
   "metadata": {},
   "source": [
    "As we can see majority of people havent participated at all"
   ]
  },
  {
   "cell_type": "code",
   "execution_count": 18,
   "id": "52caaff4",
   "metadata": {
    "scrolled": true,
    "tags": []
   },
   "outputs": [
    {
     "name": "stdout",
     "output_type": "stream",
     "text": [
      "81.81% of people havent participated at all\n"
     ]
    }
   ],
   "source": [
    "print(f\"{(1-df_response.shape[0]/df_Noresponse.shape[0]):.2%} of people havent participated at all\")"
   ]
  },
  {
   "cell_type": "code",
   "execution_count": 19,
   "id": "ad4a158b",
   "metadata": {
    "scrolled": true,
    "tags": []
   },
   "outputs": [
    {
     "data": {
      "text/plain": [
       "exposed    657\n",
       "control    586\n",
       "Name: experiment, dtype: int64"
      ]
     },
     "execution_count": 19,
     "metadata": {},
     "output_type": "execute_result"
    }
   ],
   "source": [
    "df_response['experiment'].value_counts()"
   ]
  },
  {
   "cell_type": "code",
   "execution_count": 20,
   "id": "2cd91ad5",
   "metadata": {
    "tags": []
   },
   "outputs": [
    {
     "data": {
      "text/plain": [
       "<Axes: ylabel='experiment'>"
      ]
     },
     "execution_count": 20,
     "metadata": {},
     "output_type": "execute_result"
    },
    {
     "data": {
      "image/png": "[encoded data removed]",
      "text/plain": [
       "<Figure size 640x480 with 2 Axes>"
      ]
     },
     "metadata": {},
     "output_type": "display_data"
    }
   ],
   "source": [
    "plt.axes().set_ylabel('')\n",
    "plt.axes().set_xlabel('')\n",
    "\n",
    "df_response['experiment'].value_counts()\\\n",
    ".plot.pie(explode=[0.05,0.05], labels=['Exposed','Control'], autopct='%1.1f%%', shadow=True, startangle=-60)"
   ]
  },
  {
   "cell_type": "markdown",
   "id": "461bb50c",
   "metadata": {},
   "source": [
    "> https://medium.com/@kvnamipara/a-better-visualisation-of-pie-charts-by-matplotlib-935b7667d77f"
   ]
  },
  {
   "cell_type": "code",
   "execution_count": 21,
   "id": "c8f5f6e4",
   "metadata": {
    "tags": []
   },
   "outputs": [
    {
     "data": {
      "text/html": [
       "<div>\n",
       "<style scoped>\n",
       "    .dataframe tbody tr th:only-of-type {\n",
       "        vertical-align: middle;\n",
       "    }\n",
       "\n",
       "    .dataframe tbody tr th {\n",
       "        vertical-align: top;\n",
       "    }\n",
       "\n",
       "    .dataframe thead th {\n",
       "        text-align: right;\n",
       "    }\n",
       "</style>\n",
       "<table border=\"1\" class=\"dataframe\">\n",
       "  <thead>\n",
       "    <tr style=\"text-align: right;\">\n",
       "      <th></th>\n",
       "      <th>yes</th>\n",
       "      <th>no</th>\n",
       "      <th>sum</th>\n",
       "    </tr>\n",
       "    <tr>\n",
       "      <th>experiment</th>\n",
       "      <th></th>\n",
       "      <th></th>\n",
       "      <th></th>\n",
       "    </tr>\n",
       "  </thead>\n",
       "  <tbody>\n",
       "    <tr>\n",
       "      <th>control</th>\n",
       "      <td>264</td>\n",
       "      <td>322</td>\n",
       "      <td>586</td>\n",
       "    </tr>\n",
       "    <tr>\n",
       "      <th>exposed</th>\n",
       "      <td>308</td>\n",
       "      <td>349</td>\n",
       "      <td>657</td>\n",
       "    </tr>\n",
       "  </tbody>\n",
       "</table>\n",
       "</div>"
      ],
      "text/plain": [
       "            yes   no  sum\n",
       "experiment               \n",
       "control     264  322  586\n",
       "exposed     308  349  657"
      ]
     },
     "execution_count": 21,
     "metadata": {},
     "output_type": "execute_result"
    }
   ],
   "source": [
    "respond_table = df.groupby(['experiment'])[['yes','no']].sum(numeric_only=True)\n",
    "respond_table['sum'] = respond_table.apply(lambda row: row['yes']+row['no'],axis=1)\n",
    "respond_table"
   ]
  },
  {
   "cell_type": "code",
   "execution_count": 22,
   "id": "17bd9dd3",
   "metadata": {
    "scrolled": true,
    "tags": []
   },
   "outputs": [
    {
     "data": {
      "image/png": "[encoded data removed]",
      "text/plain": [
       "<Figure size 500x300 with 1 Axes>"
      ]
     },
     "metadata": {},
     "output_type": "display_data"
    }
   ],
   "source": [
    "f = plt.figure()\n",
    "f.set_figwidth(5)\n",
    "f.set_figheight(3)\n",
    "\n",
    "labels = ['Control', 'Exposed']\n",
    "sizes = [586,657]\n",
    "labels_yesno = ['Yes','No','Yes','No']\n",
    "sizes_yesno = [264,322,308,349]\n",
    "colors = ['#aaf2ef','#006d65']\n",
    "colors_yesno= ['#032cfc','#ff6666','#032cfc','#ff6666']\n",
    " \n",
    "plt.pie(sizes, labels=labels, colors=colors, startangle=90,frame=True)\n",
    "plt.pie(sizes_yesno,labels=labels_yesno, colors=colors_yesno,radius=0.75,startangle=90, labeldistance=0.8) # pctdistance=0.1,\n",
    "centre_circle = plt.Circle((0,0),0.5,color='black', fc='white',linewidth=0)\n",
    "fig = plt.gcf()\n",
    "fig.gca().add_artist(centre_circle)\n",
    " \n",
    "plt.axis('equal')\n",
    "plt.tight_layout()\n",
    "plt.show()"
   ]
  },
  {
   "cell_type": "markdown",
   "id": "a9fc51d3-56e7-4437-b257-0bac25c41ffb",
   "metadata": {},
   "source": [
    "lets make the same table for overall user avtivity.  Make a new columns answer which will be 1 for engaging with questioneer button and zero for not engaging."
   ]
  },
  {
   "cell_type": "code",
   "execution_count": 86,
   "id": "25743437-e1cb-4ea4-b2e9-10b2155db9b4",
   "metadata": {
    "tags": []
   },
   "outputs": [],
   "source": [
    "df['interacted'] = df.apply(lambda row:row['yes']+row['no'],axis=1)\n",
    "#df.head()"
   ]
  },
  {
   "cell_type": "code",
   "execution_count": 89,
   "id": "51961510-8e06-483c-966f-13a4d52f66e2",
   "metadata": {},
   "outputs": [
    {
     "data": {
      "text/html": [
       "<div>\n",
       "<style scoped>\n",
       "    .dataframe tbody tr th:only-of-type {\n",
       "        vertical-align: middle;\n",
       "    }\n",
       "\n",
       "    .dataframe tbody tr th {\n",
       "        vertical-align: top;\n",
       "    }\n",
       "\n",
       "    .dataframe thead th {\n",
       "        text-align: right;\n",
       "    }\n",
       "</style>\n",
       "<table border=\"1\" class=\"dataframe\">\n",
       "  <thead>\n",
       "    <tr style=\"text-align: right;\">\n",
       "      <th></th>\n",
       "      <th>interacted</th>\n",
       "      <th>overall_sum</th>\n",
       "      <th>not_interacted</th>\n",
       "    </tr>\n",
       "    <tr>\n",
       "      <th>experiment</th>\n",
       "      <th></th>\n",
       "      <th></th>\n",
       "      <th></th>\n",
       "    </tr>\n",
       "  </thead>\n",
       "  <tbody>\n",
       "    <tr>\n",
       "      <th>control</th>\n",
       "      <td>586</td>\n",
       "      <td>4071</td>\n",
       "      <td>3485</td>\n",
       "    </tr>\n",
       "    <tr>\n",
       "      <th>exposed</th>\n",
       "      <td>657</td>\n",
       "      <td>4006</td>\n",
       "      <td>3349</td>\n",
       "    </tr>\n",
       "  </tbody>\n",
       "</table>\n",
       "</div>"
      ],
      "text/plain": [
       "            interacted  overall_sum  not_interacted\n",
       "experiment                                         \n",
       "control            586         4071            3485\n",
       "exposed            657         4006            3349"
      ]
     },
     "execution_count": 89,
     "metadata": {},
     "output_type": "execute_result"
    }
   ],
   "source": [
    "overall_respond_table = df.groupby(['experiment'])[['interacted']].sum(numeric_only=True)\n",
    "overall_respond_table['overall_sum'] = df.groupby(['experiment'])[['experiment']].count()\n",
    "overall_respond_table['not_interacted'] = overall_respond_table['overall_sum']-overall_respond_table['interacted']\n",
    "overall_respond_table"
   ]
  },
  {
   "cell_type": "code",
   "execution_count": 90,
   "id": "5d3304f3-6632-4252-aab9-87aeb3a2d64f",
   "metadata": {},
   "outputs": [
    {
     "data": {
      "text/html": [
       "<div>\n",
       "<style scoped>\n",
       "    .dataframe tbody tr th:only-of-type {\n",
       "        vertical-align: middle;\n",
       "    }\n",
       "\n",
       "    .dataframe tbody tr th {\n",
       "        vertical-align: top;\n",
       "    }\n",
       "\n",
       "    .dataframe thead th {\n",
       "        text-align: right;\n",
       "    }\n",
       "</style>\n",
       "<table border=\"1\" class=\"dataframe\">\n",
       "  <thead>\n",
       "    <tr style=\"text-align: right;\">\n",
       "      <th></th>\n",
       "      <th>interacted</th>\n",
       "      <th>not_interacted</th>\n",
       "      <th>overall_sum</th>\n",
       "    </tr>\n",
       "    <tr>\n",
       "      <th>experiment</th>\n",
       "      <th></th>\n",
       "      <th></th>\n",
       "      <th></th>\n",
       "    </tr>\n",
       "  </thead>\n",
       "  <tbody>\n",
       "    <tr>\n",
       "      <th>control</th>\n",
       "      <td>586</td>\n",
       "      <td>3485</td>\n",
       "      <td>4071</td>\n",
       "    </tr>\n",
       "    <tr>\n",
       "      <th>exposed</th>\n",
       "      <td>657</td>\n",
       "      <td>3349</td>\n",
       "      <td>4006</td>\n",
       "    </tr>\n",
       "  </tbody>\n",
       "</table>\n",
       "</div>"
      ],
      "text/plain": [
       "            interacted  not_interacted  overall_sum\n",
       "experiment                                         \n",
       "control            586            3485         4071\n",
       "exposed            657            3349         4006"
      ]
     },
     "execution_count": 90,
     "metadata": {},
     "output_type": "execute_result"
    }
   ],
   "source": [
    "overall_respond_table = overall_respond_table[['interacted','not_interacted','overall_sum']]\n",
    "overall_respond_table"
   ]
  },
  {
   "cell_type": "code",
   "execution_count": null,
   "id": "07c1e4a8-9695-4d38-8553-ad7f738cb283",
   "metadata": {},
   "outputs": [],
   "source": []
  },
  {
   "cell_type": "code",
   "execution_count": null,
   "id": "069f6f25-b0be-460a-b2ac-a3ac526f0b22",
   "metadata": {},
   "outputs": [],
   "source": []
  },
  {
   "cell_type": "code",
   "execution_count": null,
   "id": "43b51d1e-2ae1-444d-b328-688456dd069d",
   "metadata": {},
   "outputs": [],
   "source": []
  },
  {
   "cell_type": "code",
   "execution_count": null,
   "id": "9e59bba3-c0c9-4f41-9883-f934911a7a57",
   "metadata": {},
   "outputs": [],
   "source": []
  },
  {
   "cell_type": "code",
   "execution_count": 83,
   "id": "6e623213",
   "metadata": {
    "tags": []
   },
   "outputs": [],
   "source": [
    "#df2.info()"
   ]
  },
  {
   "cell_type": "code",
   "execution_count": 109,
   "id": "e8322f5c",
   "metadata": {
    "tags": []
   },
   "outputs": [],
   "source": [
    "# df_mod = df2.drop(df2.columns[[0, 5]], axis=1, inplace=False)\n",
    "# df_mod.info() # df_modified"
   ]
  },
  {
   "cell_type": "code",
   "execution_count": null,
   "id": "78b9e0ab",
   "metadata": {},
   "outputs": [],
   "source": []
  },
  {
   "cell_type": "markdown",
   "id": "c3dcfd56",
   "metadata": {},
   "source": [
    "## **Statistical analysis** Part 1"
   ]
  },
  {
   "cell_type": "markdown",
   "id": "327852b1-6341-438e-a07c-6c2cc9af60d3",
   "metadata": {},
   "source": [
    "First problem we want to answer is whether or not the new Ad contributed to a higher click rate or not. For This we will use  several different statistical tests. Our contingency table looks like as follows:\n"
   ]
  },
  {
   "cell_type": "code",
   "execution_count": 25,
   "id": "dee9c64b-8897-46b8-a0b2-bc3eba99753a",
   "metadata": {
    "tags": []
   },
   "outputs": [
    {
     "data": {
      "text/html": [
       "<div>\n",
       "<style scoped>\n",
       "    .dataframe tbody tr th:only-of-type {\n",
       "        vertical-align: middle;\n",
       "    }\n",
       "\n",
       "    .dataframe tbody tr th {\n",
       "        vertical-align: top;\n",
       "    }\n",
       "\n",
       "    .dataframe thead th {\n",
       "        text-align: right;\n",
       "    }\n",
       "</style>\n",
       "<table border=\"1\" class=\"dataframe\">\n",
       "  <thead>\n",
       "    <tr style=\"text-align: right;\">\n",
       "      <th></th>\n",
       "      <th>yes</th>\n",
       "      <th>no</th>\n",
       "      <th>sum</th>\n",
       "    </tr>\n",
       "    <tr>\n",
       "      <th>experiment</th>\n",
       "      <th></th>\n",
       "      <th></th>\n",
       "      <th></th>\n",
       "    </tr>\n",
       "  </thead>\n",
       "  <tbody>\n",
       "    <tr>\n",
       "      <th>control</th>\n",
       "      <td>264</td>\n",
       "      <td>322</td>\n",
       "      <td>586</td>\n",
       "    </tr>\n",
       "    <tr>\n",
       "      <th>exposed</th>\n",
       "      <td>308</td>\n",
       "      <td>349</td>\n",
       "      <td>657</td>\n",
       "    </tr>\n",
       "  </tbody>\n",
       "</table>\n",
       "</div>"
      ],
      "text/plain": [
       "            yes   no  sum\n",
       "experiment               \n",
       "control     264  322  586\n",
       "exposed     308  349  657"
      ]
     },
     "execution_count": 25,
     "metadata": {},
     "output_type": "execute_result"
    }
   ],
   "source": [
    "respond_table"
   ]
  },
  {
   "cell_type": "markdown",
   "id": "a201eae9-9c83-425c-b283-4f9a2ce0504f",
   "metadata": {
    "tags": []
   },
   "source": [
    "#### **Case 1: Chi Square Test**"
   ]
  },
  {
   "cell_type": "markdown",
   "id": "f34ee6ac-d034-4401-b09c-50c62dc28362",
   "metadata": {},
   "source": [
    "The chi-squared test is a statistical test that can be used for A/B testing to determine if there is a statistically significant difference between two proportions or percentages. It is commonly used in A/B testing to analyze the results of a randomized experiment where a control group and a treatment group are compared.\n",
    "\n",
    "To conduct a chi-squared test, the following steps can be taken:\n",
    "\n",
    "Define the null hypothesis and alternative hypothesis:\\\n",
    "Null hypothesis: There is no statistically significant difference between the conversion rates of the control group and the treatment group.\\\n",
    "Alternative hypothesis: There is a statistically significant difference between the conversion rates of the control group and the treatment group.\n",
    "    \n",
    "$$\n",
    "\\begin{cases}\n",
    "    H_0:& p_{con}=p_{exp}\\\\\n",
    "    H_1: &p_{con}\\neq p_{exp}\n",
    "\\end{cases}\n",
    "$$\n",
    "\n",
    "Set the level of significance (alpha):\n",
    "This is the threshold probability value below which the null hypothesis is rejected. Common values for alpha are 0.05 or 0.01.\n",
    "\n",
    "Collect the data: Record the number of conversions and non-conversions for both the control and treatment groups.\n",
    "\n",
    "Calculate the expected values: Calculate the expected number of conversions and non-conversions for both the control and treatment groups, assuming that there is no significant difference between the groups. This is done by multiplying the total number of observations by the proportion of conversions/non-conversions in each group.\n",
    "\n",
    "Calculate the chi-squared test statistic: The chi-squared test statistic measures the difference between the observed values and the expected values. It is calculated as the sum of [(observed value - expected value)^2 / expected value] for all four possible outcomes (conversion/non-conversion in control/treatment group).\n",
    "\n",
    "Calculate the degrees of freedom: The degrees of freedom for the chi-squared test in A/B testing is 1, since there are only two groups being compared.\n",
    "\n",
    "Determine the p-value: The p-value is the probability of obtaining a chi-squared test statistic as extreme or more extreme than the observed value, assuming that the null hypothesis is true.\n",
    "\n",
    "Compare the p-value to the level of significance: If the p-value is less than the level of significance, the null hypothesis is rejected, and it can be concluded that there is a statistically significant difference between the conversion rates of the control and treatment groups.\n",
    "\n",
    "In conclusion, the chi-squared test can be used to analyze the results of an A/B test and determine if there is a statistically significant difference between the conversion rates of the control and treatment groups."
   ]
  },
  {
   "cell_type": "code",
   "execution_count": 26,
   "id": "932be2ea-eaf8-4635-89da-06880c3e91ff",
   "metadata": {
    "tags": []
   },
   "outputs": [],
   "source": [
    "from scipy.stats import chi2_contingency"
   ]
  },
  {
   "cell_type": "code",
   "execution_count": 27,
   "id": "2632e2bd-e9f9-477a-a1aa-8245b2dc9163",
   "metadata": {
    "tags": []
   },
   "outputs": [
    {
     "data": {
      "text/plain": [
       "array([[264, 322],\n",
       "       [308, 349]])"
      ]
     },
     "execution_count": 27,
     "metadata": {},
     "output_type": "execute_result"
    }
   ],
   "source": [
    "# Create the contingency table as a 2D numpy array\n",
    "cont_table = np.array([[264, 322], [308, 349]])\n",
    "cont_table"
   ]
  },
  {
   "cell_type": "code",
   "execution_count": 28,
   "id": "feffe6b4-a058-4fd7-809b-7af59ef3b985",
   "metadata": {
    "tags": []
   },
   "outputs": [
    {
     "name": "stdout",
     "output_type": "stream",
     "text": [
      "CPU times: user 1e+03 ns, sys: 1 µs, total: 2 µs\n",
      "Wall time: 3.81 µs\n"
     ]
    }
   ],
   "source": [
    "# Perform the chi-square test\n",
    "%time\n",
    "chi2, pval_chi2, dof_chi2, expected = chi2_contingency(cont_table)"
   ]
  },
  {
   "cell_type": "code",
   "execution_count": 29,
   "id": "8e4901ba",
   "metadata": {
    "tags": []
   },
   "outputs": [
    {
     "name": "stdout",
     "output_type": "stream",
     "text": [
      "Chi-square: 0.35\n",
      "P-value: 0.556\n",
      "Degree of freedom: 1.00\n",
      "Expected value of frequencies under null hypothesis: \n",
      "[[269.66371681 316.33628319]\n",
      " [302.33628319 354.66371681]]\n"
     ]
    }
   ],
   "source": [
    "# Print the results\n",
    "print(f\"Chi-square: {chi2:.2f}\")\n",
    "print(f\"P-value: {pval_chi2:.3f}\")\n",
    "print(f\"Degree of freedom: {dof_chi2:.2f}\")\n",
    "print(\"Expected value of frequencies under null hypothesis: \")\n",
    "print(expected)"
   ]
  },
  {
   "cell_type": "markdown",
   "id": "feec5f96-53c3-431a-a980-1c29f86adc56",
   "metadata": {},
   "source": [
    "The null hypothesis for a chi-square test on a contingency table is that there is no association between the two categorical variables. In other words, the observed frequencies in the contingency table are not significantly different from the expected frequencies under the assumption of independence between the two variables."
   ]
  },
  {
   "cell_type": "markdown",
   "id": "b465b463-43c5-431b-9d89-2b582d30a07e",
   "metadata": {},
   "source": [
    "In this case, our p-value is greater than 0.05, which means we fail to reject the null hypothesis. Therefore, we conclude that there is not enough evidence to suggest that there is a significant association between the two categorical variables represented in the contingency table."
   ]
  },
  {
   "cell_type": "markdown",
   "id": "b8a7e85d-8d7d-46c5-b57e-2d47fe1c036b",
   "metadata": {},
   "source": [
    "#### **Case 2: Fisher's Exact test**"
   ]
  },
  {
   "cell_type": "markdown",
   "id": "fd3ad353-a506-47d8-8726-a145de2c9f5c",
   "metadata": {},
   "source": [
    "Fisher's exact test is a good when the sample size is small or the expected cell frequencies are low (i.e. <5). The chi-square test is generally preferred over Fisher's exact test because the chi-square test has more power to detect smaller differences between the groups. Still we will perform the test to see what it tells us."
   ]
  },
  {
   "cell_type": "code",
   "execution_count": 30,
   "id": "f2a83da7-a4c2-48e0-8b4c-bd41f1b2c7a6",
   "metadata": {
    "tags": []
   },
   "outputs": [
    {
     "name": "stdout",
     "output_type": "stream",
     "text": [
      "Odds ratio: 0.93\n",
      "P-value: 0.531\n"
     ]
    }
   ],
   "source": [
    "from scipy.stats import fisher_exact\n",
    "\n",
    "# Perform Fisher's exact test\n",
    "odds_ratio_fisher, pval_fisher = fisher_exact(cont_table)\n",
    "\n",
    "# Print the results\n",
    "print(f\"Odds ratio: {odds_ratio_fisher:.2f}\")\n",
    "print(f\"P-value: {pval_fisher:.3f}\")"
   ]
  },
  {
   "cell_type": "markdown",
   "id": "fef27f3a-c43b-4bb8-93a5-8b8d4b60beb9",
   "metadata": {},
   "source": [
    "The null hypothesis for Fisher's exact test is the same as for the chi-square test: there is no association between the two categorical variables. In other words, the odds of one category of the first variable occurring in combination with one category of the second variable are not significantly different from the expected odds under the assumption of independence between the two variables.\n",
    "\n",
    "In this case, the p-value for Fisher's exact test is also greater than 0.05, which means we fail to reject the null hypothesis. Therefore, we conclude that there is not enough evidence to suggest that there is a significant association between the two categorical variables represented in the contingency table."
   ]
  },
  {
   "cell_type": "markdown",
   "id": "48e40e8e-a6b5-4f2a-babc-061d28930146",
   "metadata": {},
   "source": [
    "> https://en.wikipedia.org/wiki/Click-through_rate\n",
    "\n",
    "> https://en.wikipedia.org/wiki/Fisher%27s_exact_test\n"
   ]
  },
  {
   "cell_type": "markdown",
   "id": "564827e7-3a60-4245-9fef-e0fa28646941",
   "metadata": {},
   "source": [
    "#### **Case 3: Z-test for comparing proportions (2-sided)**"
   ]
  },
  {
   "cell_type": "markdown",
   "id": "1e9c8cab-6f35-47fa-8186-7fc62663b48f",
   "metadata": {},
   "source": [
    "The Z test is a statistical test that can be used for A/B testing to determine if there is a statistically significant difference between the proportions or percentages of two groups. It is commonly used when the sample size is large (typically greater than 30) and the data is normally distributed.\n",
    "\n",
    "To conduct a Z test for A/B testing, the following steps can be taken:\n",
    "\n",
    "Define the null hypothesis and alternative hypothesis: \n",
    "Null hypothesis: There is no statistically significant difference between the conversion rates of the control group and the treatment group.\n",
    "Alternative hypothesis: There is a statistically significant difference between the conversion rates of the control group and the treatment group.\n",
    "\n",
    "$$\n",
    "  \\begin{cases}\n",
    "    H_0:& p_{con}=p_{exp}\\\\\n",
    "    H_1: &p_{con}\\neq p_{exp}\n",
    "\\end{cases}\n",
    "$$\n",
    "\n",
    "\n",
    "Set the level of significance (alpha): This is the threshold probability value below which the null hypothesis is rejected. Common values for alpha are 0.05 or 0.01.\n",
    "\n",
    "Collect the data: Record the number of conversions and non-conversions for both the control and treatment groups.\n",
    "\n",
    "Calculate the pooled proportion: Calculate the proportion of conversions across both the control and treatment groups. This is called the pooled proportion and is calculated as\n",
    "$$\\hat p_{p}=\\frac{X_{con}+X_{exp}}{N_{con}+N_{exp}}$$\n",
    "\n",
    "Calculate the standard error: The standard error is a measure of the variability of the sample data. It is calculated as:\n",
    "$$\\hat s_p^2 =\\hat p_p (1-\\hat p_p)\\times (\\frac{1}{N_{con}}+\\frac{1}{N_{exp}})$$\n",
    "where n1 and n2 are the sample sizes of the control and treatment groups, respectively.\n",
    "\n",
    "Calculate the test statistic: The test statistic is calculated as the difference between the sample proportions of the control and treatment groups divided by the standard error. It is expressed as:\n",
    "$$Z=\\frac{\\hat p_{con}-\\hat p_{exp}}{\\sqrt{\\hat s_p^2}}$$\n",
    "where p1 and p2 are the sample proportions of the control and treatment groups, respectively, and SE is the standard error.\n",
    "\n",
    "Calculate the critical value: The critical value is the value that separates the rejection region from the non-rejection region. For a two-sided test with alpha = 0.05, the critical value is 1.96.\n",
    "\n",
    "Determine the p-value: The p-value is the probability of obtaining a test statistic as extreme or more extreme than the observed value, assuming that the null hypothesis is true. In a two-sided test, the p-value is calculated as twice the area under the normal distribution curve to the left of the negative of the absolute value of the test statistic.\n",
    "$$p_{value} = Pr[t\\leq Z \\text{ or } t\\geq Z]=2 \\times Pr[t \\geq Z] $$\n",
    "\n",
    "Compare the p-value to the level of significance: If the p-value is less than the level of significance, the null hypothesis is rejected, and it can be concluded that there is a statistically significant difference between the conversion rates of the control and treatment groups.\n",
    "\n",
    "In conclusion, the Z test can be used to analyze the results of an A/B test and determine if there is a statistically significant difference between the conversion rates of the control and treatment groups when the sample size is large and the data is normally distributed. It provides a simple way to compare two proportions and determine if they are significantly different from each other."
   ]
  },
  {
   "cell_type": "code",
   "execution_count": 31,
   "id": "2f5aae9f-a97c-4df2-a12d-f0f14351781b",
   "metadata": {},
   "outputs": [
    {
     "data": {
      "text/html": [
       "<div>\n",
       "<style scoped>\n",
       "    .dataframe tbody tr th:only-of-type {\n",
       "        vertical-align: middle;\n",
       "    }\n",
       "\n",
       "    .dataframe tbody tr th {\n",
       "        vertical-align: top;\n",
       "    }\n",
       "\n",
       "    .dataframe thead th {\n",
       "        text-align: right;\n",
       "    }\n",
       "</style>\n",
       "<table border=\"1\" class=\"dataframe\">\n",
       "  <thead>\n",
       "    <tr style=\"text-align: right;\">\n",
       "      <th></th>\n",
       "      <th>yes</th>\n",
       "      <th>no</th>\n",
       "      <th>sum</th>\n",
       "    </tr>\n",
       "    <tr>\n",
       "      <th>experiment</th>\n",
       "      <th></th>\n",
       "      <th></th>\n",
       "      <th></th>\n",
       "    </tr>\n",
       "  </thead>\n",
       "  <tbody>\n",
       "    <tr>\n",
       "      <th>control</th>\n",
       "      <td>264</td>\n",
       "      <td>322</td>\n",
       "      <td>586</td>\n",
       "    </tr>\n",
       "    <tr>\n",
       "      <th>exposed</th>\n",
       "      <td>308</td>\n",
       "      <td>349</td>\n",
       "      <td>657</td>\n",
       "    </tr>\n",
       "  </tbody>\n",
       "</table>\n",
       "</div>"
      ],
      "text/plain": [
       "            yes   no  sum\n",
       "experiment               \n",
       "control     264  322  586\n",
       "exposed     308  349  657"
      ]
     },
     "execution_count": 31,
     "metadata": {},
     "output_type": "execute_result"
    }
   ],
   "source": [
    "respond_table"
   ]
  },
  {
   "cell_type": "code",
   "execution_count": 32,
   "id": "933dd492-0a69-42e9-b971-2a7c7702d1a7",
   "metadata": {},
   "outputs": [
    {
     "name": "stdout",
     "output_type": "stream",
     "text": [
      "null hypothesis is valid\n",
      "Test Statistics stat:  -0.645680181221037\n",
      "Z-critical:  1.959963984540054\n",
      "P_value:  1.4815135017801033\n",
      "Confidence Interval of 2 sample Z-test for proportions:  [-0.07  0.04]\n"
     ]
    },
    {
     "data": {
      "image/png": "[encoded data removed]",
      "text/plain": [
       "<Figure size 640x480 with 1 Axes>"
      ]
     },
     "metadata": {},
     "output_type": "display_data"
    }
   ],
   "source": [
    "from scipy.stats import norm\n",
    "\n",
    "X_con = 264 #clicks control\n",
    "N_con = 586 #impressions control\n",
    "X_exp = 308 #clicks experimental\n",
    "N_exp = 657 #impressions experimetal\n",
    "\n",
    "# Significance Level\n",
    "alpha = 0.05\n",
    "\n",
    "p_con_hat = X_con / N_con\n",
    "p_exp_hat = X_exp / N_exp\n",
    "\n",
    "p_pooled_hat = (X_con + X_exp)/(N_con + N_exp)\n",
    "pooled_variance = p_pooled_hat*(1-p_pooled_hat) * (1/N_con + 1/N_exp)\n",
    "\n",
    "# Standard Error\n",
    "SE = np.sqrt(pooled_variance)\n",
    "\n",
    "# test statsitics\n",
    "Test_stat = (p_con_hat - p_exp_hat)/SE\n",
    "# critical value usig the standard normal distribution\n",
    "Z_crit = norm.ppf(1-alpha/2)\n",
    "\n",
    "# Margin of error\n",
    "m = SE * Z_crit\n",
    "# two sided test and using symmetry property of Normal distibution so we multiple with 2\n",
    "p_value = norm.sf(Test_stat)*2\n",
    "\n",
    "# Confidence Interval\n",
    "CI = [(p_con_hat-p_exp_hat) - SE * Z_crit, (p_con_hat-p_exp_hat) + SE * Z_crit]\n",
    "\n",
    "if np.abs(Test_stat) >= Z_crit:\n",
    "    print(\"reject the null\")\n",
    "    print(p_value)\n",
    "else:\n",
    "    print(\"null hypothesis is valid\")\n",
    "\n",
    "print(\"Test Statistics stat: \", Test_stat)\n",
    "print(\"Z-critical: \", Z_crit)\n",
    "print(\"P_value: \", p_value)\n",
    "print(\"Confidence Interval of 2 sample Z-test for proportions: \", np.round(CI,2))\n",
    "\n",
    "import matplotlib.pyplot as plt\n",
    "z = np.arange(-3,3,  0.1)\n",
    "plt.plot(z, norm.pdf(z), label = 'Standard Normal Distribution',color = 'purple',linewidth = 2.5)\n",
    "plt.fill_between(z[z>Z_crit], norm.pdf(z[z>Z_crit]), label = 'Right Rejection Region',color ='y' )\n",
    "plt.fill_between(z[z<(-1)*Z_crit], norm.pdf(z[z<(-1)*Z_crit]), label = 'Left Rejection Region',color ='y' )\n",
    "plt.title(\"Two Sample Z-test rejection region\")\n",
    "plt.legend()\n",
    "plt.show()"
   ]
  },
  {
   "cell_type": "markdown",
   "id": "893f6aa3-b7cb-4847-8b15-d118862df8ac",
   "metadata": {},
   "source": [
    "Simulation for the power of test"
   ]
  },
  {
   "cell_type": "code",
   "execution_count": 33,
   "id": "d02dc5fe-4256-4acf-a14a-580aedf20144",
   "metadata": {
    "tags": []
   },
   "outputs": [
    {
     "name": "stdout",
     "output_type": "stream",
     "text": [
      "Null hypothesis: p_con = 0.451\n",
      "Alternative hypothesis: p_exp = 0.469\n",
      "Significance level: alpha = 0.05\n",
      "Critical values: +/- 1.960\n",
      "Minimum detectable effect size: 0.055\n",
      "Observed effect size: 0.018\n",
      "Power of the test: 0.829\n"
     ]
    }
   ],
   "source": [
    "# Set the parameters for the null hypothesis\n",
    "X_con, N_con = 264, 586\n",
    "p_con = X_con / N_con\n",
    "\n",
    "# Set the parameters for the alternative hypothesis\n",
    "X_exp, N_exp = 308, 657\n",
    "p_exp = X_exp / N_exp\n",
    "\n",
    "# Set the significance level\n",
    "alpha = 0.05\n",
    "\n",
    "# Calculate the standard error of the difference in proportions\n",
    "se_diff = np.sqrt(p_con * (1 - p_con) / N_con + p_exp * (1 - p_exp) / N_exp)\n",
    "\n",
    "# Calculate the critical values for a two-sided test\n",
    "z_alpha_2 = norm.ppf(1 - alpha/2)\n",
    "\n",
    "# Calculate the minimum detectable effect size (MDES)\n",
    "mdes = se_diff * z_alpha_2\n",
    "\n",
    "# Calculate the observed effect size (OES)\n",
    "oes = np.abs(p_exp - p_con)\n",
    "\n",
    "# Calculate the power of the test\n",
    "z_beta = norm.ppf(1 - alpha/2) - oes / se_diff\n",
    "power = norm.cdf(z_beta + mdes) - norm.cdf(-z_beta - mdes)\n",
    "\n",
    "# Print the results\n",
    "print(f\"Null hypothesis: p_con = {p_con:.3f}\")\n",
    "print(f\"Alternative hypothesis: p_exp = {p_exp:.3f}\")\n",
    "print(f\"Significance level: alpha = {alpha}\")\n",
    "print(f\"Critical values: +/- {z_alpha_2:.3f}\")\n",
    "#print(f\"se difference: {se_diff}\")\n",
    "print(f\"Minimum detectable effect size: {mdes:.3f}\")\n",
    "print(f\"Observed effect size: {oes:.3f}\")\n",
    "print(f\"Power of the test: {power:.3f}\")"
   ]
  },
  {
   "cell_type": "markdown",
   "id": "98bcf214-62df-47ff-9c6e-53167c83b21d",
   "metadata": {},
   "source": [
    "As shown in results although power of the test is above 80% , the observed effect size of 0.018 is lower than  the theoratical minimum detectable effect size of 0.055"
   ]
  },
  {
   "cell_type": "markdown",
   "id": "3313b591-03e7-4bcc-a4a7-9e71a3e7b7ee",
   "metadata": {},
   "source": [
    "Lets simulate a power analysis of a 2 sided Z test below:"
   ]
  },
  {
   "cell_type": "code",
   "execution_count": 34,
   "id": "21fc6965-5843-4e81-abfc-f5920271e71b",
   "metadata": {
    "tags": []
   },
   "outputs": [
    {
     "data": {
      "image/png": "[encoded data removed]",
      "text/plain": [
       "<Figure size 1000x600 with 2 Axes>"
      ]
     },
     "metadata": {},
     "output_type": "display_data"
    }
   ],
   "source": [
    "from statsmodels.stats.proportion import proportions_ztest\n",
    "import seaborn as sns\n",
    "\n",
    "# Define the control and experimental groups\n",
    "X_con, N_con = 264, 586\n",
    "X_exp, N_exp = 308, 657\n",
    "\n",
    "# Calculate the pooled proportion\n",
    "p_pool = (X_con + X_exp) / (N_con + N_exp)\n",
    "\n",
    "# Set the parameters for the simulation\n",
    "alpha = 0.05\n",
    "simulations = 100\n",
    "effect_sizes = np.arange(0.01, .36, 0.02)\n",
    "sample_sizes = np.arange(100, 1000, 100)\n",
    "\n",
    "# Create a matrix to store the power for different effect sizes and sample sizes\n",
    "power_matrix = np.zeros((len(effect_sizes), len(sample_sizes)))\n",
    "\n",
    "# Simulate the power for different effect sizes and sample sizes\n",
    "for i, effect_size in enumerate(effect_sizes):\n",
    "    for j, sample_size in enumerate(sample_sizes):\n",
    "        significant_count = 0\n",
    "        for k in range(simulations):\n",
    "            # Simulate data with the given effect size and sample size\n",
    "            p_con = p_pool - 0.5 * effect_size\n",
    "            p_exp = p_pool + 0.5 * effect_size\n",
    "            n_con_sim = sample_size // 2\n",
    "            n_exp_sim = sample_size - n_con_sim\n",
    "            X_con_sim = np.random.binomial(n_con_sim, p_con)\n",
    "            X_exp_sim = np.random.binomial(n_exp_sim, p_exp)\n",
    "\n",
    "            # Calculate the two-sided Z-test and its p-value\n",
    "            count = np.array([X_con_sim, X_exp_sim])\n",
    "            nobs = np.array([n_con_sim, n_exp_sim])\n",
    "            z_stat, p_val = proportions_ztest(count, nobs)\n",
    "\n",
    "            # Check if the p-value is less than the significance level\n",
    "            if p_val < alpha:\n",
    "                significant_count += 1\n",
    "\n",
    "        # Calculate the power of the test\n",
    "        power = significant_count / simulations\n",
    "        power_matrix[i, j] = power\n",
    "\n",
    "# Convert the matrix to a DataFrame for visualization\n",
    "df_power = pd.DataFrame(power_matrix, index=effect_sizes.round(3), columns=sample_sizes)\n",
    "df_power.style.background_gradient(cmap='YlGnBu', vmin=0, vmax=1).format(\"{:.3f}\")\n",
    "# Create the heatmap\n",
    "plt.figure(figsize=(10, 6))\n",
    "ax = sns.heatmap(df_power, annot=True, cmap='YlGnBu', fmt='.3g', cbar_kws={'label': 'Power'})\n",
    "ax.set_title('Power Analysis')\n",
    "ax.set_xlabel('Sample Size')\n",
    "ax.set_ylabel('Effect Size')\n",
    "plt.yticks(rotation=0)\n",
    "plt.show()"
   ]
  },
  {
   "cell_type": "code",
   "execution_count": 55,
   "id": "75a70c29-6a08-4ceb-aebe-5a1da9858919",
   "metadata": {},
   "outputs": [
    {
     "data": {
      "text/plain": [
       "0.45051194539249145"
      ]
     },
     "execution_count": 55,
     "metadata": {},
     "output_type": "execute_result"
    }
   ],
   "source": [
    "p_con = X_con/N_con\n",
    "p_con"
   ]
  },
  {
   "cell_type": "code",
   "execution_count": 56,
   "id": "bbbd205a-10d9-4e72-8fa3-0868cd26901f",
   "metadata": {},
   "outputs": [
    {
     "data": {
      "text/plain": [
       "0.4687975646879756"
      ]
     },
     "execution_count": 56,
     "metadata": {},
     "output_type": "execute_result"
    }
   ],
   "source": [
    "p_exp = X_exp/N_exp\n",
    "p_exp"
   ]
  },
  {
   "cell_type": "code",
   "execution_count": 103,
   "id": "fecfac2c-d3a9-4963-9d9f-3e97f2c20e6c",
   "metadata": {},
   "outputs": [
    {
     "data": {
      "text/plain": [
       "[<matplotlib.lines.Line2D at 0x7f5dfb929710>]"
      ]
     },
     "execution_count": 103,
     "metadata": {},
     "output_type": "execute_result"
    },
    {
     "data": {
      "image/png": "[encoded data removed]",
      "text/plain": [
       "<Figure size 640x480 with 1 Axes>"
      ]
     },
     "metadata": {},
     "output_type": "display_data"
    }
   ],
   "source": [
    "std_a=np.sqrt(p_con * (1-p_con)/N_con)\n",
    "std_b=np.sqrt(p_exp * (1-p_exp)/N_exp)\n",
    "\n",
    "click_rate = np.linspace(0.35, 0.6, 200)\n",
    "prob_a = norm(p_con, std_a).pdf(click_rate)\n",
    "prob_b = norm(p_exp, std_b).pdf(click_rate)\n",
    "\n",
    "plt.plot(click_rate, prob_a, label='A')\n",
    "plt.plot(click_rate, prob_b, label='B')"
   ]
  },
  {
   "cell_type": "code",
   "execution_count": 61,
   "id": "3a211273-53b6-442b-ad2f-853784609788",
   "metadata": {},
   "outputs": [
    {
     "data": {
      "text/plain": [
       "0.6458981015684259"
      ]
     },
     "execution_count": 61,
     "metadata": {},
     "output_type": "execute_result"
    }
   ],
   "source": [
    "z_score_for_test = (p_exp-p_con)/np.sqrt(std_a**2+std_b**2)\n",
    "z_score_for_test"
   ]
  },
  {
   "cell_type": "code",
   "execution_count": 63,
   "id": "dbf21855-7167-4b58-a756-80649363f539",
   "metadata": {},
   "outputs": [
    {
     "data": {
      "text/plain": [
       "0.2591726745827285"
      ]
     },
     "execution_count": 63,
     "metadata": {},
     "output_type": "execute_result"
    }
   ],
   "source": [
    "test_statistics_p = 1-norm().cdf(z_score_for_test)\n",
    "test_statistics_p"
   ]
  },
  {
   "cell_type": "markdown",
   "id": "c2e44cb9-f128-48f1-b968-5e3218eaa210",
   "metadata": {},
   "source": [
    "Conclusion:\n",
    "p=0.259 so p>0.05, we can not reject the null hypothesis and conclude that there is no statistically significant difference between the AdA and AdB"
   ]
  },
  {
   "cell_type": "markdown",
   "id": "079dbec7-6e9b-433b-9d63-a861f4c787a1",
   "metadata": {},
   "source": [
    "## **Statistical analysis** Part 2"
   ]
  },
  {
   "cell_type": "markdown",
   "id": "2e6713b7-14b7-45f0-ad75-58b6daacd9c1",
   "metadata": {},
   "source": [
    "lets focus on the other part of the problem. Most of the users didnt even bother to interact with the survey button at all. Lets figure out whats going on in that area."
   ]
  },
  {
   "cell_type": "code",
   "execution_count": 91,
   "id": "0c3f9d22-9839-434c-98c1-132fcee69363",
   "metadata": {},
   "outputs": [
    {
     "data": {
      "text/html": [
       "<div>\n",
       "<style scoped>\n",
       "    .dataframe tbody tr th:only-of-type {\n",
       "        vertical-align: middle;\n",
       "    }\n",
       "\n",
       "    .dataframe tbody tr th {\n",
       "        vertical-align: top;\n",
       "    }\n",
       "\n",
       "    .dataframe thead th {\n",
       "        text-align: right;\n",
       "    }\n",
       "</style>\n",
       "<table border=\"1\" class=\"dataframe\">\n",
       "  <thead>\n",
       "    <tr style=\"text-align: right;\">\n",
       "      <th></th>\n",
       "      <th>interacted</th>\n",
       "      <th>not_interacted</th>\n",
       "      <th>overall_sum</th>\n",
       "    </tr>\n",
       "    <tr>\n",
       "      <th>experiment</th>\n",
       "      <th></th>\n",
       "      <th></th>\n",
       "      <th></th>\n",
       "    </tr>\n",
       "  </thead>\n",
       "  <tbody>\n",
       "    <tr>\n",
       "      <th>control</th>\n",
       "      <td>586</td>\n",
       "      <td>3485</td>\n",
       "      <td>4071</td>\n",
       "    </tr>\n",
       "    <tr>\n",
       "      <th>exposed</th>\n",
       "      <td>657</td>\n",
       "      <td>3349</td>\n",
       "      <td>4006</td>\n",
       "    </tr>\n",
       "  </tbody>\n",
       "</table>\n",
       "</div>"
      ],
      "text/plain": [
       "            interacted  not_interacted  overall_sum\n",
       "experiment                                         \n",
       "control            586            3485         4071\n",
       "exposed            657            3349         4006"
      ]
     },
     "execution_count": 91,
     "metadata": {},
     "output_type": "execute_result"
    }
   ],
   "source": [
    "overall_respond_table"
   ]
  },
  {
   "cell_type": "code",
   "execution_count": 92,
   "id": "f0b34cd0-a280-4e02-85d0-107be25a1f37",
   "metadata": {},
   "outputs": [
    {
     "data": {
      "text/plain": [
       "array([[ 586, 3485],\n",
       "       [ 657, 3349]])"
      ]
     },
     "execution_count": 92,
     "metadata": {},
     "output_type": "execute_result"
    }
   ],
   "source": [
    "# Create the contingency table as a 2D numpy array\n",
    "cont_table_2 = np.array([[586, 3485], [657, 3349]])\n",
    "cont_table_2"
   ]
  },
  {
   "cell_type": "code",
   "execution_count": 94,
   "id": "b5999a0c-b4ec-41f8-90c9-7baefff25fb4",
   "metadata": {},
   "outputs": [
    {
     "name": "stdout",
     "output_type": "stream",
     "text": [
      "reject the null\n",
      "1.987505360897848\n",
      "Test Statistics stat:  -2.4978575502090976\n",
      "Z-critical:  1.959963984540054\n",
      "P_value:  1.987505360897848\n",
      "Confidence Interval of 2 sample Z-test for proportions:  [-0.04 -0.  ]\n"
     ]
    },
    {
     "data": {
      "image/png": "[encoded data removed]",
      "text/plain": [
       "<Figure size 640x480 with 1 Axes>"
      ]
     },
     "metadata": {},
     "output_type": "display_data"
    }
   ],
   "source": [
    "X_con_2 = 586 #clicks control\n",
    "N_con_2 = 4071 #impressions control\n",
    "X_exp_2 = 657 #clicks experimental\n",
    "N_exp_2 = 4006 #impressions experimetal\n",
    "\n",
    "# Significance Level\n",
    "alpha = 0.05\n",
    "\n",
    "p_con_hat_2 = X_con_2 / N_con_2\n",
    "p_exp_hat_2 = X_exp_2 / N_exp_2\n",
    "\n",
    "p_pooled_hat_2 = (X_con_2 + X_exp_2)/(N_con_2 + N_exp_2)\n",
    "pooled_variance_2 = p_pooled_hat_2*(1-p_pooled_hat_2) * (1/N_con_2 + 1/N_exp_2)\n",
    "\n",
    "# Standard Error\n",
    "SE_2 = np.sqrt(pooled_variance_2)\n",
    "\n",
    "# test statsitics\n",
    "Test_stat_2 = (p_con_hat_2 - p_exp_hat_2)/SE_2\n",
    "# critical value usig the standard normal distribution\n",
    "Z_crit_2 = norm.ppf(1-alpha/2)\n",
    "\n",
    "# Margin of error\n",
    "m_2 = SE_2 * Z_crit_2\n",
    "# two sided test and using symmetry property of Normal distibution so we multiple with 2\n",
    "p_value_2 = norm.sf(Test_stat_2)*2\n",
    "\n",
    "# Confidence Interval\n",
    "CI_2 = [(p_con_hat_2-p_exp_hat_2) - SE_2 * Z_crit_2, (p_con_hat_2-p_exp_hat_2) + SE_2 * Z_crit_2]\n",
    "\n",
    "if np.abs(Test_stat_2) >= Z_crit_2:\n",
    "    print(\"reject the null\")\n",
    "    print(p_value_2)\n",
    "else:\n",
    "    print(\"null hypothesis is valid\")\n",
    "\n",
    "print(\"Test Statistics stat: \", Test_stat_2)\n",
    "print(\"Z-critical: \", Z_crit_2)\n",
    "print(\"P_value: \", p_value_2)\n",
    "print(\"Confidence Interval of 2 sample Z-test for proportions: \", np.round(CI_2,2))\n",
    "\n",
    "import matplotlib.pyplot as plt\n",
    "z = np.arange(-3,3,  0.1)\n",
    "plt.plot(z, norm.pdf(z), label = 'Standard Normal Distribution',color = 'purple',linewidth = 2.5)\n",
    "plt.fill_between(z[z>Z_crit_2], norm.pdf(z[z>Z_crit_2]), label = 'Right Rejection Region',color ='y' )\n",
    "plt.fill_between(z[z<(-1)*Z_crit_2], norm.pdf(z[z<(-1)*Z_crit_2]), label = 'Left Rejection Region',color ='y' )\n",
    "plt.title(\"Two Sample Z-test rejection region\")\n",
    "plt.legend()\n",
    "plt.show()"
   ]
  },
  {
   "cell_type": "code",
   "execution_count": 98,
   "id": "4909217b-a7fd-4de7-9a7a-d195ba7e09eb",
   "metadata": {},
   "outputs": [
    {
     "name": "stdout",
     "output_type": "stream",
     "text": [
      "Null hypothesis: p_con = 0.144\n",
      "Alternative hypothesis: p_exp = 0.164\n",
      "Significance level: alpha = 0.05\n",
      "Critical values: +/- 1.960\n",
      "Minimum detectable effect size: 0.016\n",
      "Observed effect size: 0.020\n",
      "Power of the test: 0.398\n"
     ]
    }
   ],
   "source": [
    "# Set the parameters for the null hypothesis\n",
    "X_con_2, N_con_2 = 586, 4071\n",
    "p_con_2 = X_con_2 / N_con_2\n",
    "\n",
    "# Set the parameters for the alternative hypothesis\n",
    "X_exp_2 , N_exp_2 = 657, 4006\n",
    "p_exp_2 = X_exp_2 / N_exp_2\n",
    "\n",
    "# Set the significance level\n",
    "alpha = 0.05\n",
    "\n",
    "# Calculate the standard error of the difference in proportions\n",
    "se_diff_2 = np.sqrt(p_con_2 * (1 - p_con_2) / N_con_2 + p_exp_2 * (1 - p_exp_2) / N_exp_2)\n",
    "\n",
    "# Calculate the critical values for a two-sided test\n",
    "z_alpha_2_2 = norm.ppf(1 - alpha/2)\n",
    "\n",
    "# Calculate the minimum detectable effect size (MDES)\n",
    "mdes_2 = se_diff_2 * z_alpha_2_2\n",
    "\n",
    "# Calculate the observed effect size (OES)\n",
    "oes_2 = np.abs(p_exp_2 - p_con_2)\n",
    "\n",
    "# Calculate the power of the test\n",
    "z_beta_2 = norm.ppf(1 - alpha/2) - oes_2 / se_diff_2\n",
    "power_2 = -norm.cdf(z_beta_2 + mdes_2) + norm.cdf(-z_beta_2 - mdes_2)\n",
    "# Print the results\n",
    "print(f\"Null hypothesis: p_con = {p_con_2:.3f}\")\n",
    "print(f\"Alternative hypothesis: p_exp = {p_exp_2:.3f}\")\n",
    "print(f\"Significance level: alpha = {alpha}\")\n",
    "print(f\"Critical values: +/- {z_alpha_2_2:.3f}\")\n",
    "#print(f\"se difference: {se_diff}\")\n",
    "print(f\"Minimum detectable effect size: {mdes_2:.3f}\")\n",
    "print(f\"Observed effect size: {oes_2:.3f}\")\n",
    "print(f\"Power of the test: {power_2:.3f}\")"
   ]
  },
  {
   "cell_type": "code",
   "execution_count": 105,
   "id": "ee595c3b-1381-4504-ba1c-91d158df39a9",
   "metadata": {},
   "outputs": [
    {
     "data": {
      "text/plain": [
       "[<matplotlib.lines.Line2D at 0x7f5dfc708990>]"
      ]
     },
     "execution_count": 105,
     "metadata": {},
     "output_type": "execute_result"
    },
    {
     "data": {
      "image/png": "[encoded data removed]",
      "text/plain": [
       "<Figure size 640x480 with 1 Axes>"
      ]
     },
     "metadata": {},
     "output_type": "display_data"
    }
   ],
   "source": [
    "std_a_2=np.sqrt(p_con_2 * (1-p_con_2)/N_con_2)\n",
    "std_b_2=np.sqrt(p_exp_2 * (1-p_exp_2)/N_exp_2)\n",
    "\n",
    "click_rate_2 = np.linspace(0.1, 0.2, 200)\n",
    "prob_a_2 = norm(p_con_2, std_a_2).pdf(click_rate_2)\n",
    "prob_b_2 = norm(p_exp_2, std_b_2).pdf(click_rate_2)\n",
    "\n",
    "plt.plot(click_rate_2, prob_a_2, label='A')\n",
    "plt.plot(click_rate_2, prob_b_2, label='B')"
   ]
  },
  {
   "cell_type": "code",
   "execution_count": 106,
   "id": "30a28044-d5c4-4454-bd34-5a62dd57f277",
   "metadata": {},
   "outputs": [
    {
     "data": {
      "text/plain": [
       "2.4977507989609387"
      ]
     },
     "execution_count": 106,
     "metadata": {},
     "output_type": "execute_result"
    }
   ],
   "source": [
    "z_score_for_test_2 = (p_exp_2-p_con_2)/np.sqrt(std_a_2**2+std_b_2**2)\n",
    "z_score_for_test_2"
   ]
  },
  {
   "cell_type": "code",
   "execution_count": 107,
   "id": "2781ec9a-a321-4cb9-963a-1611bdc744c8",
   "metadata": {},
   "outputs": [
    {
     "data": {
      "text/plain": [
       "0.00624920101464177"
      ]
     },
     "execution_count": 107,
     "metadata": {},
     "output_type": "execute_result"
    }
   ],
   "source": [
    "test_statistics_p_2 = 1-norm().cdf(z_score_for_test_2)\n",
    "test_statistics_p_2"
   ]
  },
  {
   "cell_type": "markdown",
   "id": "c1b19690-5306-48ac-9e64-b18494e63fa7",
   "metadata": {},
   "source": [
    "test_statistics_p_2 < 0.05 so we can say that the new add causes more interaction with the survey button. although the interaction rate is only 2 percent higher with new add its a statistically significant difference."
   ]
  },
  {
   "cell_type": "markdown",
   "id": "07deb54a-719e-43ed-bc60-183af8221e5c",
   "metadata": {},
   "source": [
    "## **Future Work**"
   ]
  },
  {
   "cell_type": "markdown",
   "id": "b64dfb8a-78e7-48a8-b34c-b1ae4b04372e",
   "metadata": {},
   "source": [
    "-- At a given day/time there are too many data points. Investigate what that means and how that effects the data"
   ]
  },
  {
   "cell_type": "markdown",
   "id": "2ac13b6c-5cb6-4ff9-a9ed-70cd8a4fd7d4",
   "metadata": {},
   "source": [
    "-- Use logistic regression as an analysis tool"
   ]
  },
  {
   "cell_type": "markdown",
   "id": "297f2495-828e-4a37-b5d4-846e0710cd68",
   "metadata": {},
   "source": [
    "-- Analyse effects of different phone or software enviroment on interaction effect and so on."
   ]
  },
  {
   "cell_type": "markdown",
   "id": "d881cbe9-5fcc-4ad2-8b8d-42d16884044c",
   "metadata": {},
   "source": [
    "-- Add more visuals"
   ]
  },
  {
   "cell_type": "code",
   "execution_count": null,
   "id": "992fd8c2-21f8-4f70-9627-51acd03244de",
   "metadata": {},
   "outputs": [],
   "source": []
  }
 ],
 "metadata": {
  "kernelspec": {
   "display_name": "Python 3 (ipykernel)",
   "language": "python",
   "name": "python3"
  },
  "language_info": {
   "codemirror_mode": {
    "name": "ipython",
    "version": 3
   },
   "file_extension": ".py",
   "mimetype": "text/x-python",
   "name": "python",
   "nbconvert_exporter": "python",
   "pygments_lexer": "ipython3",
   "version": "3.11.0"
  }
 },
 "nbformat": 4,
 "nbformat_minor": 5
}
